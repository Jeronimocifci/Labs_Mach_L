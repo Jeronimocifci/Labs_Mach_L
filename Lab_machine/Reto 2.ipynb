{
 "cells": [
  {
   "cell_type": "markdown",
   "id": "f0c4e356",
   "metadata": {},
   "source": [
    "# **Reto 2: Planteamiento y análisis de un problema de Regresión**\n",
    "**Facultad de ingeniería, departamento de Ingeniería Biomédica, Universidad de los Andes**\\\n",
    "**IBIO-2340 Fundamentos del machine learning**"
   ]
  },
  {
   "cell_type": "markdown",
   "id": "31e4fd53",
   "metadata": {},
   "source": [
    "**Nombres de los integrantes**\n",
    "\n",
    "\n",
    "1.   Alejandro Narváez - 202123110\n",
    "2.   Ali Cifci - 202210698\n",
    "\n",
    "**Número del grupo**\n",
    "\n",
    "LabML-4 10"
   ]
  },
  {
   "cell_type": "markdown",
   "id": "7c8390fc",
   "metadata": {},
   "source": [
    "0. Importación de librerías"
   ]
  },
  {
   "cell_type": "code",
   "execution_count": null,
   "id": "40830b9a",
   "metadata": {},
   "outputs": [],
   "source": [
    "import numpy as np"
   ]
  },
  {
   "cell_type": "markdown",
   "id": "56e2acd3",
   "metadata": {},
   "source": [
    "1. Carga de datos"
   ]
  }
 ],
 "metadata": {
  "kernelspec": {
   "display_name": "Python 3",
   "language": "python",
   "name": "python3"
  },
  "language_info": {
   "name": "python",
   "version": "3.13.3"
  }
 },
 "nbformat": 4,
 "nbformat_minor": 5
}
