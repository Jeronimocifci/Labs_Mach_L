{
 "cells": [
  {
   "cell_type": "markdown",
   "metadata": {
    "id": "yi34l9LYTUxx"
   },
   "source": [
    "# **Laboratorio 5: Una introducción a la optimización**\n",
    "**Facultad de ingeniería**\n",
    "\n",
    "Departamento de Ingeniería Biomédica\n",
    "\n",
    "Universidad de los Andes\n",
    "\n",
    "**IBIO-2440:** Fundamentos del machine learning\n"
   ]
  },
  {
   "cell_type": "markdown",
   "metadata": {
    "id": "q6l8Azb1Tdbo"
   },
   "source": [
    "**Nombres de los integrantes**\n",
    "\n",
    "\n",
    "1.   Alejandro Narváez - 202123110\n",
    "2.   Ali Cifci - 202210698\n",
    "\n",
    "**Número del grupo**\n",
    "\n",
    "LabML-4 10\n"
   ]
  },
  {
   "cell_type": "markdown",
   "metadata": {
    "id": "HMpGJ-Zi0Whs"
   },
   "source": [
    "# **Paquete optimize de SciPy** "
   ]
  },
  {
   "cell_type": "markdown",
   "metadata": {
    "id": "U2BeyR_i3tuA"
   },
   "source": [
    "**SciPy** acrónimo de *Scientific Python* es una libreria de Python especializada en cálculos técnicos y científicos que hace uso de *Numpy* dentro de su implementación interna. \n",
    "\n",
    "Dentro de los muchos módulos que contiene **SciPy** nos interesa en particular *optimize* que proporciona distintas herramientas para calcular las raíces y valores mínimos (o máximos) de funciones matemáticas, hacer ajuste de curvas, resolver sistemas de ecuaciones y atender otras formas de optimización. En este módulo, una de las funciones más útiles es *minimize_scalar()* que permite minimizar funciones escalares y *minimize()* que hace lo propio para campos escalares. Veamos cómo  se puede utilizar esta función para resolver problemas simples de optimización:\n",
    "\n",
    "A continuación se describen los argumentos de la función para su funcionamiento y se da un ejemplo de cálculo de minimizadores usando *minimize*."
   ]
  },
  {
   "cell_type": "markdown",
   "metadata": {
    "id": "Nz0Md_WH69Y1"
   },
   "source": [
    "En primer lugar, importamos la función *minimize()* del paquete *optimize* de **SciPy**:"
   ]
  },
  {
   "cell_type": "code",
   "execution_count": 1,
   "metadata": {
    "id": "UNqiHmj53tFs"
   },
   "outputs": [],
   "source": [
    "from scipy.optimize import minimize"
   ]
  },
  {
   "cell_type": "markdown",
   "metadata": {},
   "source": [
    "La función *minimize()* responde a la siguiente sintaxis:\n",
    "\n",
    "```\n",
    "minimize(fun, x0, args=(), method=None, jac=None, hess=None, hessp=None, bounds=None, constraints=(), tol=None, callback=None, options=None)\n",
    "```"
   ]
  },
  {
   "cell_type": "markdown",
   "metadata": {
    "id": "5bjW2xhS7JAD"
   },
   "source": [
    "**Argumentos obligatorios:** \n",
    "\n",
    "- *fun*: Permite pasar la función objetivo, aquella que se desea minimizar. *La función objetivo debe implementarse a través de una función de Python que reciba por argumento un arreglo y retorne un valor escalar. Una vez definida la función se pasa como valor del argumento fun el nombre asignado*. Si por ejemplo se desea minimizar una función de 3 variables, la función de Python no debe recibir 3 argumentos sino un solo argumento X, un array de 3 elementos de modo que cada elemento represente a cada una de las variables independientes, es decir:\n",
    "\n",
    "***Forma incorrecta:***\n",
    "\n",
    "```\n",
    "def funcion_objetivo(x,y,z):\n",
    "  return x + y + z\n",
    "```\n",
    "***Forma correcta:***\n",
    "\n",
    "```\n",
    "def funcion_objetivo(X):\n",
    "  x,y,z = X\n",
    "  return x + y + z\n",
    "```\n",
    "Otra alternativa, menos explícita, puede ser: \n",
    "\n",
    "```\n",
    "def funcion_objetivo(X):\n",
    "  return X[0] + X[1] + X[2]\n",
    "```\n",
    "\n",
    "\n",
    "- *X0*: Es un arreglo de *Numpy* (o una *lista de Python* que contenga solamente números) que representa el punto inicial desde el cual inicia el proceso de optimización. Es un argumento obligatorio puesto que los métodos numéricos que utiliza *minimize()* para hallar los valores mínimos necesitan de un punto de partida para desarrollarse. Si la función tiene múltiples mínimos este argumento acelera la convergencia del método al evitar que se caiga en mínimos locales no deseados. \n",
    "\n",
    "```\n",
    "def funcion_objetivo(X, p):\n",
    "  x,y,z = X\n",
    "  return x*p + y + z\n",
    "\n",
    "x0 = np.array([2, 3]) \n",
    "resultado = minimize(funcion_objetivo, x0)\n",
    "```\n",
    "*Estos son los argumentos mínimos que exige la función mínimize() para operar.*\n",
    "\n",
    "**Argumentos opcionales** (Mencionamos aquellos que se encuentran dentro del alcance de un curso introductorio):\n",
    "\n",
    "- *method*: Recibe como un *string* el nombre del método numérico que se desea utilizar para calcular el valor minimo de la función objetivo. Se puede elegir uno entre los 15 de los que dispone *minimize()* (ver https://docs.scipy.org/doc/scipy/reference/generated/scipy.optimize.minimize.html#scipy.optimize.minimize para más información). La elección de un método particular obedece a las condiciones específicas del problema, el tipo de función y la presencia de restricciones. Por defecto *SciPy* pasa \"BGFS\" (Broyden-Fletcher-Goldfarb-Shanno algorithm),\"L-BFGS-B\" ó \"SLSQP\" (Sequential Least Squares Programming) según el problema incluya o no restricciones o límites. **Para este curso vamos a dejar a SciPy elegir el método por defecto.**\n",
    "\n",
    "- *args*: Una tupla donde cada elemento corresponde a los parámetros adicionales de la función objetivo. Por ejemplo, si se tiene una función que recibe 3 variables y un parámetro p, la definición correcta de la función objetivo debería ser:\n",
    "\n",
    "```\n",
    "def funcion_objetivo(X, p):\n",
    "  x,y,z = X\n",
    "  return x*p + y + z\n",
    "```\n",
    "\n",
    "Y en este caso, al invocar la función *minimize()*, se debe incluir el argumento *args* como una tupla de un elemento que contiene el valor correspondiente al parámetro p. Asumiendo que p tiene un valor de 0.2, la sintaxis correcta sería la siguiente:\n",
    "\n",
    "```\n",
    "argumentos = (0.2,)\n",
    "x0 = np.array([2, 3]) \n",
    "resultado = minimize(funcion_objetivo, x0, args=argumentos)\n",
    "```\n",
    "\n",
    "- *bounds*: Permite especificar los límites máximo y mínimo de cada una de las varibles independientes de la función objetivo a través de una lista de tuplas, cada tupla de la forma *(min, max)*. Si se usa *None* en alguno de los límites se asume que la variable no tiene límite inferior o superior dependiendo el caso. Por ejemplo, si tenemos una función objetivo de 3 variables en donde la primera variable debe estar en el rango (10,20), la segunda variable debe ser mayor a 0 y la tercera variable debe ser menor a 10, la sintaxis correcta para el argumento *bounds* sería de la forma:\n",
    "\n",
    "```\n",
    "def funcion_objetivo(X, p):\n",
    "  x,y,z = X\n",
    "  return x*p + y + z\n",
    "\n",
    "x0 = np.array([2, 3]) \n",
    "limites = [(10,20),(0,None),(None,10)]\n",
    "resultado = minimize(funcion_objetivo, x0, bounds = limites)\n",
    "```\n",
    "\n",
    "- *constraints*: Permite especificar las restricciones (o ligaduras) a las que está sujeta la optimización de la función objetivo. Cada restricción se define como un diccionario de Python con las llaves *type* (un String que especifíca el tipo de restricción: \"eq\" para igualdad, \"ineq\" para desigualdad), *fun* (que tiene por valor el nombre de una función en Python que implementa la restricción y sigue las mismas condiciones impuestas a la definición de la función objetivo --Importante: *Todas las restricciones deben despejarse de modo que la igualdad o desigualdad quede expresada en función a su relación con cero, si es una inecuación (una desigualdad) debe expresarse como $\\geq$ 0 (no - negativa) y en caso de una ecuación se iguala directamente a cero*--) y finalmente *args* (que permite pasar parámetros adicionales a las restricciones a través de una tupla, funciona de la misma forma que el argumento *args* descrito anteriormente para la función objetivo). Si se tiene más de una restricción, se agrega cada uno de los diccionarios que las definen a una lista de Python que finalmente se pasa como valor general del argumento *constraints*. Para información más detallada, remítase a la documentación: https://docs.scipy.org/doc/scipy/reference/generated/scipy.optimize.minimize.html#scipy.optimize.minimize\n",
    "\n",
    "Parece un poco críptico, veamos su uso mediante un ejemplo:\n",
    "\n",
    "Asuma que se tiene un problema de optimización con una función de 3 variables y las siguientes restricciones:\n",
    "\n",
    "\\begin{align}\n",
    "4 x_1 + 3 x_2 - x_3 \\geq 4 \\\\\n",
    "x_1 + x_2 = 10\n",
    "\\end{align}\n",
    "\n",
    "Lo primero que hacemos es expresar las restricciones en relación con el número cero, es decir:\n",
    "\n",
    "\\begin{align}\n",
    "4 x_1 + 3 x_2 - x_3 - 4 \\geq 0 \\\\\n",
    "x_1 + x_2 - 10 = 0\n",
    "\\end{align}\n",
    "\n",
    "Ahora, definimos cada restricción como una función de Python que toma por argumento un arreglo sobre las variables independientes y retorna un valor escalar -*las mismas condiciones impuestas a la función objetivo descritas anteriormente*-. En este caso, las funciones de restricción son:\n",
    "\n",
    "```\n",
    "def restriccion_1(X):\n",
    "    x_1, x_2, x_3 = X\n",
    "    return 4*x_1 + 3*x_2 - x_3 - 4\n",
    "```\n",
    "```\n",
    "def restriccion_2(X):\n",
    "    x_1, x_2, x_3 = X\n",
    "    return x_1 + x_2 - 10\n",
    "```\n",
    "\n",
    "**Note que las funciones definidas retornan el valor de la igualdad y de la desigualdad en relación con cero, es decir, luego del despeje que hicimos en el paso anterior.**\n",
    "\n",
    "Una vez definidas las funciones de restricción, construimos el diccionario para cada una con al menos 2 llaves: *type* y *fun*. Veamos como quedarían:\n",
    "\n",
    "```\n",
    "rest1 = {\"type\":\"ineq\",\"fun\":restriccion_1}\n",
    "rest2 = {\"type\":\"eq\",\"fun\":restriccion_2}\n",
    "\n",
    "```\n",
    "Observen que el argumento *type* para la primera restricción es *\"ineq\"* puesto que se trata de una desigualdad y \"*eq*\" para la segunda restricción, al tratarse de una igualdad. Dado que tenemos más de una restricción, creamos una lista de Python que contenga los diccionarios ya definidos para finalmente ingresarlos al parámetro *constraints*:\n",
    "\n",
    "```\n",
    "restricciones = [rest1, rest2]\n",
    "\n",
    "```\n",
    "\n",
    "El código completo del ejercicio se vería así:\n",
    "\n",
    "```\n",
    "\n",
    "def funcion_objetivo(X):\n",
    "  x,y,z = X\n",
    "  return x + y + z\n",
    "\n",
    "def restriccion_1(X):\n",
    "    x_1, x_2, x_3 = X\n",
    "    return 4*x_1 + 3*x_2 - x_3 - 4\n",
    "\n",
    "def restriccion_2(X):\n",
    "    x_1, x_2, x_3 = X\n",
    "    return x_1 + x_2 - 10\n",
    "\n",
    "rest1 = {\"type\":\"ineq\",\"fun\":restriccion_1}\n",
    "rest2 = {\"type\":\"eq\",\"fun\":restriccion_2}\n",
    "restricciones = [rest1, rest2]\n",
    "\n",
    "x0 = np.array([2, 3]) \n",
    "\n",
    "\n",
    "resultado = minimize(funcion_objetivo, x0, constraints=restricciones)\n",
    "\n",
    "```\n"
   ]
  },
  {
   "cell_type": "markdown",
   "metadata": {
    "id": "SRii1JdPFbXq"
   },
   "source": [
    "**Resultado de la función *minimize()*:**\n",
    "\n",
    "Luego de ejecutarse, la función *minimize()* retorna un diccionario con llaves *x* (Un arreglo de Numpy que contiene la solución hallada i.e. el valor mínimo para las variables independientes), *success* (Un valor booleano que indica si la solución fue éxitosa --es decir, si el método utilizado pudo converger), *message* (Un mensaje que describe la causa de terminación de la ejecución del algoritmo), *nit* (Número de iteraciones que le tomó al método para coverger a la solución) y *fun* (El valor de la función evaluado en el valor mínimo).\n",
    "\n",
    "**Nota**: Al valor numérico hallado que minimiza una función objetivo se le conoce como *Minimizador* en el contexto de Machine Learning, del mismo modo al método numérico o algoritmo utilizado para optimizar una función objetivo se le conoce como *Optimizador*."
   ]
  },
  {
   "cell_type": "markdown",
   "metadata": {
    "id": "hEyfWTLuGE7B"
   },
   "source": [
    "**Ejercicio de Ejemplo**\n",
    "\n",
    "Asuma que se quiere minimizar la función $y = 3(x_1 - 10)^2 + 4(x_2 - 5)^2$ sujeto a la condición $x_1^2+x_2^2 \\leq 9$ con $x_1 \\geq 1$ y $x_2 \\geq 2$."
   ]
  },
  {
   "cell_type": "code",
   "execution_count": 2,
   "metadata": {
    "id": "1znrLDtv7HiF"
   },
   "outputs": [],
   "source": [
    "#En primer lugar, importamos la función minimize de SciPy así como Numpy y Matplotlib\n",
    "import numpy as np\n",
    "import matplotlib.pyplot as plt\n",
    "from scipy.optimize import minimize"
   ]
  },
  {
   "cell_type": "code",
   "execution_count": 3,
   "metadata": {
    "id": "SJ6ZvS8jz_Fj"
   },
   "outputs": [],
   "source": [
    "#En primer lugar, definimos la función objetivo a minimizar\n",
    "def funcion_objetivo(X):\n",
    "  return 3*(X[0] - 10)**2 + 4*(X[1] - 5)**2"
   ]
  },
  {
   "cell_type": "code",
   "execution_count": 4,
   "metadata": {
    "id": "Gi99oK4v0U95"
   },
   "outputs": [],
   "source": [
    "#Definimos las restricciones y límites de acuerdo al formato indicado por minimize\n",
    "def restriccion_1(X):\n",
    "  return 9 - X[0] ** 2 - X[1]**2 # Recuerden que debemos expresar la restriccion de la forma >= 0\n",
    "\n",
    "constraints = [{\"type\":\"ineq\",\"fun\":restriccion_1},]\n",
    "boundaries = [(1, None),(2, None)]\n",
    "\n",
    "#Definimos el punto de partida para el proceso de minimización\n",
    "x0 = [5,5]"
   ]
  },
  {
   "cell_type": "code",
   "execution_count": 5,
   "metadata": {
    "id": "2f7KccJN0l19"
   },
   "outputs": [],
   "source": [
    "#Finalmente ejecutamos la función minimize\n",
    "minimization_f = minimize(funcion_objetivo, x0, bounds=boundaries, constraints=constraints)"
   ]
  },
  {
   "cell_type": "code",
   "execution_count": 6,
   "metadata": {
    "colab": {
     "base_uri": "https://localhost:8080/"
    },
    "id": "ogMglOtG1dRC",
    "outputId": "1a1467d7-3494-4e19-cf20-22811fa95aa9"
   },
   "outputs": [
    {
     "name": "stdout",
     "output_type": "stream",
     "text": [
      "Minimizador para X1 y X2 bajo la restricción impuesta: [2.23606798 2.        ]\n",
      "Valor de la función en el mínimo hallado: 216.83592130158132\n",
      "Resultado de la convergencia del método: True\n",
      "Número de iteraciones que le tomo al método para converger: 7\n"
     ]
    }
   ],
   "source": [
    "# Imprimimos los resultados del proceso\n",
    "print(f\"Minimizador para X1 y X2 bajo la restricción impuesta: {minimization_f[\"x\"]}\")\n",
    "print(f\"Valor de la función en el mínimo hallado: {minimization_f[\"fun\"]}\")\n",
    "print(f\"Resultado de la convergencia del método: {minimization_f[\"success\"]}\")\n",
    "print(f\"Número de iteraciones que le tomo al método para converger: {minimization_f[\"nit\"]}\")\n"
   ]
  },
  {
   "cell_type": "markdown",
   "metadata": {
    "id": "bLjjI1iY2IEy"
   },
   "source": [
    "**1.1 Ejercicios**"
   ]
  },
  {
   "cell_type": "markdown",
   "metadata": {
    "id": "18Phpzch2oNy"
   },
   "source": [
    "**1.** Grafique la región $x_1^2+x_2^2 <= 9$ e incorpore los límites $x_1 >= 1$ y $x_2 >= 2$, marque la región resultante. Agregue un título relacionado así como etiquetas en los ejes.\n",
    "\n",
    "*Hint:* Las funciones *axhline()* y *axvhline()* nos permiten dibujar líneas horizontales y verticales en el gráfico.\n",
    "¿De qué otra forma podemos gráficar la región definida por la ecuación  $x_1^2+x_2^2 <= 9$ sin usar el método *ax.plot()*?"
   ]
  },
  {
   "cell_type": "code",
   "execution_count": null,
   "metadata": {
    "id": "0qY9z0s81uzk"
   },
   "outputs": [],
   "source": []
  },
  {
   "cell_type": "markdown",
   "metadata": {
    "id": "3loSh-CN5zlB"
   },
   "source": [
    "**2.** Grafique las curvas de nivel para la función objetivo del ejercicio de ejemplo. Tome los límites $x_1 \\in [-4,4], x_2 \\in [-4,4]$ y considere 20 niveles de profundidad. Agregue un título relacionado así como etiquetas en los ejes."
   ]
  },
  {
   "cell_type": "code",
   "execution_count": null,
   "metadata": {
    "id": "WmUFd30j57eI"
   },
   "outputs": [],
   "source": []
  },
  {
   "cell_type": "markdown",
   "metadata": {
    "id": "Nex3waim5-ZT"
   },
   "source": [
    "**3.** En un mismo gráfico, dibuje la región de interés y las curvas de nivel de la función objetivo. Finalmente muestre el minimizador que se calculó con la función minimize en el ejercicio de ejemplo. Agregue un título relacionado así como etiquetas en los ejes."
   ]
  },
  {
   "cell_type": "code",
   "execution_count": null,
   "metadata": {
    "id": "-J9y3L006NKp"
   },
   "outputs": [],
   "source": []
  },
  {
   "cell_type": "markdown",
   "metadata": {
    "id": "_mvprd-96N0P"
   },
   "source": [
    "**4.**  ¿El minimizador hallado con *minimize()* corresponde efectivamente al valor mínimo dentro de la región de interés?, ¿Que pasaría con el valor mínimo si las restricciones fueran removidas?"
   ]
  },
  {
   "cell_type": "code",
   "execution_count": null,
   "metadata": {
    "id": "h-_flGXN6kfO"
   },
   "outputs": [],
   "source": []
  },
  {
   "cell_type": "markdown",
   "metadata": {
    "id": "Y3vHEMnW6o9K"
   },
   "source": [
    "**2. Resolución de un problema de optimización**"
   ]
  },
  {
   "cell_type": "markdown",
   "metadata": {
    "id": "GvPWd4Gx6uOq"
   },
   "source": [
    "El Hospital San Juan de Dios desea determinar cuál es el número de diagnósticos para cada procedimiento (Respiratorio, Coronarias, Partos y Adicciones) que le permitirá maximizar su utilidad. Para cada diagnóstico se ha establecido el número de recursos que requiere (Horas de diagnóstico, días en camas UCI, cuidados de enfermería, días-cama), la disponibilidad total de cada recurso y el margen de utilidad de cada procedimiento. Además, se sabe que el hospital debe atender un mínimo número de casos en estos diagnósticos. La siguiente tabla resume toda la información:"
   ]
  },
  {
   "cell_type": "markdown",
   "metadata": {},
   "source": [
    "\n",
    "|  Recursos             | Respiratorio | C.Coronarias | Partos | Adicciones | Disponibilidad |\n",
    "|-----------------------|--------------|--------------|--------|------------|----------------|\n",
    "| Horas de diagnóstico  | 7            | 10           | 2      | 1          |  325           |\n",
    "| Dias cama UCI         | 1            | 2.5          | 0.5    | 0          |  55            |\n",
    "| Dias - cama           | 5            | 7            | 2      | 7          |  420           |\n",
    "| Cuidados de enfermería| 50           | 88           | 27     | 50         |  3800          |\n",
    "| Margen de utilidad    | 40           | 250          | 30     | 5          |                |\n",
    "| Casos Mínimos         | 15           | 10           | 20     |            |                |"
   ]
  },
  {
   "cell_type": "markdown",
   "metadata": {
    "id": "Zcawr7-v97wU"
   },
   "source": [
    "**2.1.** Ejercicios"
   ]
  },
  {
   "cell_type": "markdown",
   "metadata": {
    "id": "GQoJ5bug-Cx_"
   },
   "source": [
    "**1.** Defina la función objetivo y las restricciones asociadas de acuerdo a la información anterior."
   ]
  },
  {
   "cell_type": "code",
   "execution_count": null,
   "metadata": {
    "id": "08bSZXO-6thb"
   },
   "outputs": [],
   "source": []
  },
  {
   "cell_type": "markdown",
   "metadata": {
    "id": "fvFDzLN0-WOA"
   },
   "source": [
    "**2.** Defina los límites para cada una de las variables independientes (bounds)"
   ]
  },
  {
   "cell_type": "code",
   "execution_count": null,
   "metadata": {
    "id": "gwiZiJdi-gVS"
   },
   "outputs": [],
   "source": []
  },
  {
   "cell_type": "markdown",
   "metadata": {
    "id": "9t-Be74P-shD"
   },
   "source": [
    "**3.** Calcule el minimizador haciendo uso de la función *minimize()* de **SciPy**"
   ]
  },
  {
   "cell_type": "code",
   "execution_count": null,
   "metadata": {
    "id": "JQtojPXg-yLL"
   },
   "outputs": [],
   "source": []
  },
  {
   "cell_type": "markdown",
   "metadata": {
    "id": "R5uWymet-ynV"
   },
   "source": [
    "**4.** Imprima el minimizador calculado, evalue y muestre que se cumplen cada una de las restricciones del problema."
   ]
  },
  {
   "cell_type": "code",
   "execution_count": null,
   "metadata": {
    "id": "iF-wDn4D_Acw"
   },
   "outputs": [],
   "source": []
  }
 ],
 "metadata": {
  "colab": {
   "provenance": []
  },
  "kernelspec": {
   "display_name": ".venv",
   "language": "python",
   "name": "python3"
  },
  "language_info": {
   "codemirror_mode": {
    "name": "ipython",
    "version": 3
   },
   "file_extension": ".py",
   "mimetype": "text/x-python",
   "name": "python",
   "nbconvert_exporter": "python",
   "pygments_lexer": "ipython3",
   "version": "3.12.8"
  }
 },
 "nbformat": 4,
 "nbformat_minor": 0
}
