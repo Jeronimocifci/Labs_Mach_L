{
 "cells": [
  {
   "cell_type": "markdown",
   "metadata": {
    "id": "yi34l9LYTUxx"
   },
   "source": [
    "# **Laboratorio 3: Una introducción al manejo de archivos**\n",
    "**Facultad de ingeniería**\n",
    "\n",
    "Departamento de Ingeniería Biomédica\n",
    "\n",
    "Universidad de los Andes\n",
    "\n",
    "**IBIO-2340:** Fundamentos del machine learning"
   ]
  },
  {
   "cell_type": "markdown",
   "metadata": {
    "id": "q6l8Azb1Tdbo"
   },
   "source": [
    "**Nombres de los integrantes**\n",
    "\n",
    "\n",
    "1.   Nombre integrante 1\n",
    "2.   Nombre integrante 2\n",
    "\n",
    "**10**\n",
    "\n",
    "LabML-4 10\n"
   ]
  },
  {
   "cell_type": "markdown",
   "metadata": {
    "id": "qleaiXKOui8U"
   },
   "source": [
    "# **1. Archivos CSV**\n",
    "\n",
    "Los archivos CSV (Comma Separated Values) son archivos de texto en los que los valores asociados a las variables descritas están separados, por lo general, por una coma (,) aunque también pueden usarse (;) y (|) como delimitadores. Cada nueva observación se separa de la anterior mediante un cambio de linea (\\n). Un ejemplo de este tipo de archivo se vería así:\n",
    "\n",
    "```\n",
    "variable1,variable2,variable3\n",
    "1,20,ert\n",
    "2,40,rty\n",
    "3,60,uio\n",
    "```\n",
    "Este tipo de archivos se utiliza comúnmente para almacenar listas y tablas de datos, por lo que es un formato usual en bases de datos. Se destaca por ser un tipo de archivo ligero y fácil de leer, multiplataforma y que permite almacenar grandes volúmenes de datos. La información que guarda es \"plana\" por lo que no puede almacenar formatos de datos avanzados como colores, fórmulas o información que involucra carácteres complicados.\n",
    "\n",
    "Una de las librerias en Python más utilizadas para cargar, procesar y visualizar archivos CSV es *Pandas*. \n",
    "Esta libreria permite cargar de forma eficiente y versatil toda la información contenida en este tipo de archivos  en objetos denominados *$DataFrames$*, que ofrecen diferentes métodos y atributos para procesar y visualizar la información.\n",
    "\n",
    "*Nota:* En general *Pandas* es también compatible con archivos tipo .xsl, .xml, .json y .html. Además funciona muy bien al articularse con otras librerias como *Numpy* y *Matplotlib*.\n",
    "\n",
    "**Uso de Pandas**\n",
    "\n",
    "\n",
    "Para cargar archivos CSV desde *Pandas* usamos la función *read_csv()*, que recibe como argumento la ruta del archivo y devuelve un objeto tipo *DataFrame*, tal y como lo muestra el siguiente fragmento:\n",
    "\n",
    "```\n",
    "import pandas as pd\n",
    "\n",
    "df = pd.read_csv(\"ruta del archivo\")\n",
    "```\n",
    "\n",
    "Además de la ruta del archivo, la función *read_csv()* admite los siguientes argumentos:\n",
    "\n",
    "- **sep:** Permite especificar el separador de los valores en las columnas del archivo, por defecto está configurado como \"coma\" (,).\n",
    "\n",
    "- **header:** Especifica la fila en el archivo cargado que va a usarse como nombres de columnas en el DataFrame; por defecto se usa 0 (asume que los nombres de las columnas están en la primera fila del archivo).\n",
    "\n",
    "- **names:** Permite cargar un arreglo con los nombres de las columnas en caso de que se quieran sobreescribir o que el archivo no contenga nombres para sus columnas.\n",
    "\n",
    "- **index_col:** Permite definir en qué columna se encuentran los valores a usar como índice del DataFrame (en este contexto *índice* se refiere al término utilizado en bases de datos para denotar la columna que contiene la expresión que identifica de forma única cada fila, NO a la operación de indexación de arreglos).\n",
    "\n",
    "- **usecols:** Especifica qué columnas especificas del archivo va a contener el DataFrame, evitando cargar todas las columnas (que es la configuración por defecto). Este argumento acepta una lista de strings con los nombres de las columnas, en caso de que el archivo tenga columnas con nombres definidos, o una lista de números que indiquen la posición de las columnas a usar si no cuenta con estas etiquetas.\n",
    "\n",
    "- **nrows:** Indica el número de filas a cargar del archivo. Al pasar un entero N, se cargan las N primeras filas.\n",
    "\n",
    "Estos son los argumentos más utilizados, no obstante esta función incluye un montón más. Para más información remitase a la documentación: https://pandas.pydata.org/docs/reference/api/pandas.read_csv.html\n"
   ]
  },
  {
   "cell_type": "markdown",
   "metadata": {
    "id": "OaF_WBokf1yC"
   },
   "source": [
    "**1.1. Ejercicios**\n",
    "\n",
    "El archivo *Heart Attack.csv* [1] contiene la información de 303 observaciones de pacientes corespondientes a distintos parámetros y señales fisiológicas y una columna que establece si el paciente tuvo o no un ataque al corazón.\n",
    "\n",
    "[1] Archivo elaborado por Sozan S. Maghdid , Tarik A. Rashid en el artículo *An Extensive Dataset for the Heart Disease Classification System.* disponible en [kaggle](https://www.kaggle.com/datasets/pritsheta/heart-attack) y utilizado bajo licencia [Attribution 4.0 International](https://creativecommons.org/licenses/by/4.0/).\n",
    "\n",
    "1. Cargue el archivo utilizando únicamente las columnas ***age, sex, trestbps, chol*** y ***thalach***."
   ]
  },
  {
   "cell_type": "code",
   "execution_count": null,
   "metadata": {
    "id": "1s49ICbldu_0"
   },
   "outputs": [],
   "source": [
    "import pandas as pd\n",
    "\n",
    "heart_df = pd.read_csv()"
   ]
  },
  {
   "cell_type": "markdown",
   "metadata": {
    "id": "POoC6F0athVO"
   },
   "source": [
    "2. Grafique en una sola figura un histograma que muestre la distribución de las presiones sanguíneas en reposo y un gráfico de barras que muestre la cantidad de hombres y mujeres dentro del dataset. **Nota:** Utilice Pandas y apoyese en Matplotlib, todas las figuras deben tener sus correspondientes etiquetas en los ejes y títulos."
   ]
  },
  {
   "cell_type": "code",
   "execution_count": null,
   "metadata": {
    "id": "bPBLTwytuBiC"
   },
   "outputs": [],
   "source": [
    "import pandas as pd\n",
    "import matplotlib.pyplot as plt\n",
    "\n",
    "ruta = '/Users/Jeronimo.cifci/Lab_mach_L/Labs_Mach_L/Lab_machine/archivos/Heart Attack Data Set.csv'\n",
    "df = pd.read_csv(ruta)\n",
    "\n",
    "fig, axes = plt.subplots(nrows=1, ncols=2, figsize=(12, 5))\n",
    "\n",
    "#  'trestbps' = presión sanguínea en reposo\n",
    "axes[0].hist(df['trestbps'], bins=20, color='skyblue', edgecolor='black')\n",
    "axes[0].set_xlabel('Presión Sanguínea en Reposo')\n",
    "axes[0].set_ylabel('Frecuencia')\n",
    "axes[0].set_title('Distribución de Presiones Sanguíneas en Reposo')\n",
    "\n",
    "conteo_sexo = df['sex'].value_counts() #se cuenta la cantidad de hombres 1 y mujeres 0 \n",
    "axes[1].bar(conteo_sexo.index, conteo_sexo.values, color='orange', width=0.5)\n",
    "axes[1].set_xlabel('Sexo (0=Femenino, 1=Masculino)') \n",
    "axes[1].set_ylabel('Cantidad')\n",
    "axes[1].set_title('Cantidad de Hombres y Mujeres')\n",
    "\n",
    "plt.tight_layout()\n",
    "plt.show()"
   ]
  },
  {
   "cell_type": "markdown",
   "metadata": {
    "id": "nacHCPBHuDyb"
   },
   "source": [
    "3. En otra figura haga un gráfico de dispersión (scatter de *Pandas*) en donde muestre la relación entre el nivel de colesterol y la edad. Recuerde agregar las etiquetas adecuadas en los ejes y un título representativo."
   ]
  },
  {
   "cell_type": "code",
   "execution_count": null,
   "metadata": {
    "id": "ufoXby8GudxY"
   },
   "outputs": [],
   "source": [
    "import pandas as pd\n",
    "import matplotlib.pyplot as plt\n",
    "\n",
    "# Cargar el dataset desde un archivo CSV\n",
    "ruta = '/Users/Jeronimo.cifci/Lab_mach_L/Labs_Mach_L/Lab_machine/archivos/Heart Attack Data Set.csv'\n",
    "df = pd.read_csv(ruta) \n",
    "\n",
    "# Crear el gráfico de dispersión\n",
    "df.plot.scatter(x='age', y='chol', alpha=0.5, color='blue')\n",
    "\n",
    "# Configuración del gráfico\n",
    "plt.xlabel(\"Edad\")\n",
    "plt.ylabel(\"Nivel de Colesterol\")\n",
    "plt.title(\"Relación entre Edad y Nivel de Colesterol\")\n",
    "\n",
    "# Mostrar el gráfico\n",
    "plt.show()"
   ]
  },
  {
   "cell_type": "markdown",
   "metadata": {
    "id": "Dk5FxuDXue5y"
   },
   "source": [
    "4. En la gráfica del punto anterior incluya la información que se relacionan con la mayor frecuencia cardíaca alcanzada (*thalach*) como una barra de color (\"colorbar\") sobre los puntos ya graficados . **Hint:** ¿Para qué sirve el argumento *c* en las gráficas de scatter en *Matplotlib*?"
   ]
  },
  {
   "cell_type": "code",
   "execution_count": null,
   "metadata": {
    "id": "S3_TzjOAu1_h"
   },
   "outputs": [],
   "source": [
    "import pandas as pd\n",
    "import matplotlib.pyplot as plt\n",
    "\n",
    "ruta = '/Users/Jeronimo.cifci/Lab_mach_L/Labs_Mach_L/Lab_machine/archivos/Heart Attack Data Set.csv'\n",
    "df = pd.read_csv(ruta)\n",
    "\n",
    "# Crear la figura y el eje\n",
    "plt.figure(figsize=(8, 6))\n",
    "\n",
    "# Crear el gráfico de dispersión con color basado en 'thalach'/ los colores en el grafico se basan en la frecuencia cardiaca maxima\n",
    "scatter = plt.scatter(df['age'], df['chol'], c=df['thalach'], cmap='viridis', alpha=0.7)\n",
    "\n",
    "# Agregar barra de color\n",
    "cbar = plt.colorbar(scatter)\n",
    "cbar.set_label(\"Frecuencia Cardíaca Máxima (thalach)\")\n",
    "\n",
    "# Configuración del gráfico\n",
    "plt.xlabel(\"Edad\")\n",
    "plt.ylabel(\"Nivel de Colesterol\")\n",
    "plt.title(\"Relación entre Edad y Nivel de Colesterol\\n(Color indica Frecuencia Cardíaca Máxima)\")\n",
    "\n",
    "# Mostrar el gráfico\n",
    "plt.show()"
   ]
  },
  {
   "cell_type": "markdown",
   "metadata": {
    "id": "wARlNL_Wu99Y"
   },
   "source": [
    "# **2. Archivos xlsx**\n",
    "\n",
    "La extensión $.xlsx$ (Excel Spreadsheet) corresponde al tipo de archivo generado y diseñado en Microsoft Excel basado en XML. Este tipo de archivo permite almacenar datos en hojas de cálculo con múltiples funcionalidades. Entre sus propiedades se destaca que, a diferencia de los archivos CSV, permite almacenar fórmulas, gráficos e incluso estilos (por lo que no se considera un archivo de texto plano). No es tan ligero como los archivos CSV pero es mucho más estructurado y puede contener múltiples hojas de cálculo en un mismo archivo. Es un formato usual en el que algunas bases de datos permiten exportar su información.\n",
    "\n",
    "La información que contiene este tipo de archivos también pueden cargarse, analizarse y visualizarse usando *Pandas*, con un DataFrame similar al construido para los archivos CSV. En este caso, utilizamos la función *read_excel()* de la siguiente manera:\n",
    "\n",
    "\n",
    "```\n",
    "import pandas as pd\n",
    "\n",
    "excel_df = pd.read_excel(\"ruta al archivo\")\n",
    "```\n",
    "\n",
    "Además de la ruta al archivo, algunos argumentos útiles de la función son:\n",
    "\n",
    "- **sheet_name:** Especifíca el nombre de la hoja de Excel en donde están los datos a cargar, en caso de que no se suministre se utiliza la primera hoja del archivo. Permite pasar un arreglo de nombres de hojas de cálculo si quiere cargarse más de una.\n",
    "\n",
    "- **header:** Especifica la fila en el archivo cargado que va a usarse como nombres de columnas en el DataFrame; por defecto se usa 0 (asume que los nombres de las columnas están en la primera fila del archivo).\n",
    "\n",
    "- **names:** Permite cargar un arreglo con los nombres de las columnas en caso de que se quieran sobreescribir o que el archivo no contenga nombres para sus columnas.\n",
    "\n",
    "- **index_col:** Permite definir en qué columna se encuentran los valores a usar como índice del DataFrame (en este contexto *índice* se refiere al término utilizado en bases de datos para denotar la columna que contiene la expresión que identifica de forma única cada fila, NO a la operación de indexación de arreglos).\n",
    "\n",
    "- **usecols:** Especifica qué columnas especificas del archivo va a contener el DataFrame, evitando cargar todas las columnas (que es la configuración por defecto). Este argumento acepta una lista de strings con los nombres de las columnas, en caso de que el archivo tenga columnas con nombres definidos, o una lista de números que indiquen la posición de las columnas a usar si no cuenta con estas etiquetas.\n",
    "\n",
    "- **nrows:** Indica el número de filas a cargar del archivo. Al pasar un entero N, se cargan las N primeras filas.\n",
    "\n",
    "Tal como en el caso de *read_csv()*, la función *read_excel()* involucra varios argumentos más relacionados con el manejo de archivos $.xslx$ y $.xls$ que pueden consultar en la documentación: https://pandas.pydata.org/docs/reference/api/pandas.read_excel.html#pandas.read_excel\n",
    "\n",
    "*Nota:* Para cargar este tipo de archivos *Pandas* necesita que se instale adicionalmente la libreria *openpyxl*, que se puede instalar directamente con pip usando el comando:\n",
    "\n",
    "```\n",
    "pip install openpyxl\n",
    "```"
   ]
  },
  {
   "cell_type": "markdown",
   "metadata": {
    "id": "SpbzA9Jdw429"
   },
   "source": [
    "**2.1. Ejercicios**\n",
    "\n",
    "1. Cargue el archivo *data.xlsx* en un DataFrame de *Pandas*, verifique que el archivo no tiene nombres para sus columnas y asigne los nombres \"x\" y \"y\" respectivamente."
   ]
  },
  {
   "cell_type": "code",
   "execution_count": null,
   "metadata": {
    "id": "l6kRK4qJwgyx"
   },
   "outputs": [],
   "source": [
    "import pandas as pd\n",
    "\n",
    "# Ruta del archivo\n",
    "ruta = '/Users/Jeronimo.cifci/Lab_mach_L/Labs_Mach_L/Lab_machine/archivos/data.xlsx'\n",
    "\n",
    "# Cargar el archivo sin nombres de columna y asignar nombres \"x\" y \"y\"\n",
    "df = pd.read_excel(ruta, header=None, names=[\"x\", \"y\"], engine=\"openpyxl\")\n",
    "\n",
    "# Mostrar las primeras filas para verificar\n",
    "print(df.head())"
   ]
  },
  {
   "cell_type": "markdown",
   "metadata": {
    "id": "-h00Xi-LxXs9"
   },
   "source": [
    "2. Haga un gráfico de dispersión de las columnas \"x\" y \"y\", utilizando un gráfico de tipo **scatter**. Recuerde incluir título y leyendas en los ejes de su gráfica."
   ]
  },
  {
   "cell_type": "code",
   "execution_count": null,
   "metadata": {
    "id": "Am-pdxa80VWD"
   },
   "outputs": [],
   "source": [
    "import pandas as pd\n",
    "import matplotlib.pyplot as plt\n",
    "\n",
    "# Ruta del archivo\n",
    "ruta = '/Users/Jeronimo.cifci/Lab_mach_L/Labs_Mach_L/Lab_machine/archivos/data.xlsx'\n",
    "\n",
    "# Cargar el archivo sin nombres de columna y asignar nombres \"x\" y \"y\"\n",
    "df = pd.read_excel(ruta, header=None, names=[\"x\", \"y\"], engine=\"openpyxl\")\n",
    "\n",
    "# Crear la figura y el gráfico de dispersión\n",
    "plt.figure(figsize=(8,6))\n",
    "plt.scatter(df[\"x\"], df[\"y\"], color='blue', alpha=0.6)\n",
    "\n",
    "# Configuración de la gráfica\n",
    "plt.xlabel(\"Variable X\")\n",
    "plt.ylabel(\"Variable Y\")\n",
    "plt.title(\"Gráfico de Dispersión de X vs Y\")\n",
    "plt.grid(True)\n",
    "\n",
    "# Mostrar la gráfica\n",
    "plt.show()"
   ]
  },
  {
   "cell_type": "markdown",
   "metadata": {
    "id": "M8cFaCFA0WIF"
   },
   "source": [
    "3.Incluya en el gráfico anterior la siguiente recta y grafique la distancia que la separa de cada uno de los puntos del gráfico de dispersión. Recuerde incluir un título, las etiquetas en los ejes y usar las leyendas \"Medición\" para el gráfico de dispersión, \"Predicción\" para la recta y \"Residuo\" para las distancias verticales. **Hint:** Utilice la función *vlines()* de matplotlib.\n",
    "\n",
    "\\begin{align}\n",
    "  y = 5.01x + 0.079\n",
    "  \\end{align}"
   ]
  },
  {
   "cell_type": "code",
   "execution_count": null,
   "metadata": {
    "id": "PdfpM37U1NgD"
   },
   "outputs": [],
   "source": [
    "import pandas as pd\n",
    "import matplotlib.pyplot as plt\n",
    "import numpy as np\n",
    "\n",
    "# Ruta del archivo\n",
    "ruta = '/Users/Jeronimo.cifci/Lab_mach_L/Labs_Mach_L/Lab_machine/archivos/data.xlsx'\n",
    "\n",
    "# Cargar el archivo sin nombres de columna y asignar nombres \"x\" y \"y\"\n",
    "df = pd.read_excel(ruta, header=None, names=[\"x\", \"y\"], engine=\"openpyxl\")\n",
    "\n",
    "# Calcular los valores predichos con la ecuación de la recta\n",
    "df[\"y_pred\"] = 5.01 * df[\"x\"] + 0.079\n",
    "\n",
    "# Crear la figura\n",
    "plt.figure(figsize=(8,6))\n",
    "\n",
    "# Gráfico de dispersión (Medición)\n",
    "plt.scatter(df[\"x\"], df[\"y\"], color='blue', alpha=0.6, label=\"Medición\")\n",
    "\n",
    "# Recta de predicción\n",
    "x_vals = np.linspace(df[\"x\"].min(), df[\"x\"].max(), 100)  # Generar valores de x\n",
    "y_vals = 5.01 * x_vals + 0.079  # Calcular y usando la ecuación\n",
    "plt.plot(x_vals, y_vals, color='red', linewidth=2, label=\"Predicción\")\n",
    "\n",
    "# Graficar los residuos (distancias verticales con vlines)\n",
    "plt.vlines(df[\"x\"], df[\"y_pred\"], df[\"y\"], color=\"gray\", linestyles=\"dashed\", label=\"Residuo\")\n",
    "\n",
    "# Configuración del gráfico\n",
    "plt.xlabel(\"Variable X\")\n",
    "plt.ylabel(\"Variable Y\")\n",
    "plt.title(\"Gráfico de Dispersión con Recta de Predicción y Residuos\")\n",
    "plt.legend()\n",
    "plt.grid(True)\n",
    "\n",
    "# Mostrar la gráfica\n",
    "plt.show()"
   ]
  },
  {
   "cell_type": "markdown",
   "metadata": {
    "id": "2LCq0Ncu1dWO"
   },
   "source": [
    "# **3. Archivos Mat**\n",
    "\n",
    "El tipo de archivo con extensión $.mat$ son generados desde *MATLAB* para almacenar datos, variables y estructuras complejas. Este tipo de archivo no es un formato de texto sino que se trata de un binario que soporta compresión para optimizar su espacio de almacenamiento (por esta razón no podemos leerlo directamente con un editor de texto).\n",
    "\n",
    "Por lo general, los archivos $.mat$ se utilizan en procesamientos de señales, simulaciones y análisis numérico. Es un formato común para señales provenientes de procedimientos como electroencefalografías o electromiografías.\n",
    "\n",
    "\n",
    "**¿Cómo cargar archivos $.mat$ en Python?**\n",
    "\n",
    "A diferencia de los formatos de texto anteriores, *Pandas* no soporta archivos $.mat$ por lo que no podemos usar Dataframes directamente para contener la información. Sin embargo, podemos cargar la información de este tipo de archivos en Python utilizando la función *loadmat()* que se encuentra en la librería *scipy* al interior del módulo *io*. \n",
    "\n",
    "La función *loadmat()* permite cargar la información contenida en un archivo $.mat$ en un *diccionario de Python* incluyendo diferentes metadatos. Veámos como usarla:\n",
    "\n",
    "```\n",
    "from scipy.io import loadmat\n",
    "\n",
    "data = loadmat(\"ruta_al_archivo.mat\")\n",
    "```\n",
    "\n",
    "Además de la ruta al archivo, algunos argumentos útiles de la función son:\n",
    "\n",
    "- **squeeze_me:** Booleano. Si se pasa como True, elimina dimensiones innecesarias en los arreglos cargados de MATLAB (por ejemplo, un arreglo 1x1 de MATLAB se convierte directamente en un escalar de Python)\n",
    "\n",
    "- **chars_as_strings:** Booleano. Si se pasa como True, convierte arreglos de caracteres de MATLAB en strings de Python.\n",
    "\n",
    "- **struct_as_record:** Booleano. Si se pasa como True, convierte estructuras de MATLAB en arreglos de Numpy.\n",
    "\n",
    "- **simplify_cells:** Booleano. Si se pasa como True, convierte celdas de MATLAB en listas o diccionarios de Python.\n"
   ]
  },
  {
   "cell_type": "markdown",
   "metadata": {
    "id": "IoQvCYzPOYKS"
   },
   "source": [
    "**3.1. Ejercicios**\n",
    "\n",
    "\n",
    "\n",
    "1. Cargue el archivo *001N1_ECG.mat* que contiene información sobre el Electrocardiograma (ECG) e Hypnograma tomado de un paciente e identifique las llaves que contiene."
   ]
  },
  {
   "cell_type": "code",
   "execution_count": 21,
   "metadata": {
    "id": "dqR6wS-eOXL0"
   },
   "outputs": [
    {
     "name": "stdout",
     "output_type": "stream",
     "text": [
      "dict_keys(['__header__', '__version__', '__globals__', 's_FsHz', 'v_ECGSig', 'v_HypCode', 'v_HypCodeLabels', 'v_HypTime'])\n"
     ]
    }
   ],
   "source": [
    "from scipy.io import loadmat\n",
    "\n",
    "# Cargar el archivo .mat\n",
    "data = loadmat(r\"./Archivos/001N1_ECG.mat\")  # Modifica la ruta\n",
    "\n",
    "# Mostrar las llaves del diccionario\n",
    "print(data.keys())"
   ]
  },
  {
   "cell_type": "markdown",
   "metadata": {
    "id": "Tm5wFur_P_yW"
   },
   "source": [
    "2. Obtenga la información de la señal de ECG y la frecuencia a la que fue tomada la muestra. **Hint:** Examine las llaves del archivo y encuentre la llave del diccionario que contiene la señal y la frecuencia. Con la información de la frecuencia construya un arreglo de tiempo que contenga los segundos en los que se tomó la señal completa, utilizando la función *np.arange()* (¿Por qué no *linspace()*?) de la siguiente forma:\n",
    "```\n",
    "time_ecg = np.arange(0.0, np.size(signal_ecg)/frecuency_ecg, 1/frecuency_ecg)\n",
    "```\n"
   ]
  },
  {
   "cell_type": "code",
   "execution_count": 23,
   "metadata": {
    "id": "0iu-aFUeSGu5"
   },
   "outputs": [
    {
     "name": "stdout",
     "output_type": "stream",
     "text": [
      "Frecuencia de muestreo: 125 Hz\n",
      "Primeros valores de time_ecg: [0.    0.008 0.016 0.024 0.032 0.04  0.048 0.056 0.064 0.072]\n"
     ]
    }
   ],
   "source": [
    "from scipy.io import loadmat\n",
    "\n",
    "# Cargar el archivo\n",
    "data = loadmat(\"./Archivos/001N1_ECG.mat\")\n",
    "\n",
    "# Extraer la señal y la frecuencia\n",
    "signal_ecg = data[\"v_ECGSig\"].flatten()\n",
    "frequency_ecg = data[\"s_FsHz\"].item()\n",
    "\n",
    "# Crear el vector de tiempo\n",
    "time_ecg = np.arange(0.0, np.size(signal_ecg) / frequency_ecg, 1 / frequency_ecg)\n",
    "\n",
    "# Mostrar información\n",
    "print(\"Frecuencia de muestreo:\", frequency_ecg, \"Hz\")\n",
    "print(\"Primeros valores de time_ecg:\", time_ecg[:10])"
   ]
  },
  {
   "cell_type": "markdown",
   "metadata": {
    "id": "Kp3W3B1USIYE"
   },
   "source": [
    "3. En una figura, haga un gráfico para la señal completa y otro que muestre los primeros 15 segundos de la señal. Recuerde incluir las etiquetas en los ejes y títulos.\n",
    "\n",
    "**Hint:** Para obtener la longitud correcta de los arreglos de tiempo y señal que representan los primeros 15 segundos de la medición, calcule el número de muestras que se han tomado durante los primeros 15 segundos haciendo uso del valor de la frecuencia (¿cúantas muestras se han tomado en 15 segundos si cada una se toma durante (1/frecuencia) segundos?). Este número de muestras corresponde al número de elementos a considerar en el arreglo de la señal y del tiempo. "
   ]
  },
  {
   "cell_type": "code",
   "execution_count": 26,
   "metadata": {
    "id": "KR6liwd3S3xp"
   },
   "outputs": [
    {
     "data": {
      "image/png": "[encoded data removed]",
      "text/plain": [
       "<Figure size 1200x500 with 1 Axes>"
      ]
     },
     "metadata": {},
     "output_type": "display_data"
    },
    {
     "data": {
      "image/png": "[encoded data removed]",
      "text/plain": [
       "<Figure size 1200x500 with 1 Axes>"
      ]
     },
     "metadata": {},
     "output_type": "display_data"
    }
   ],
   "source": [
    "import matplotlib.pyplot as plt\n",
    "\n",
    "#El tiempo total de la señal\n",
    "time_ecg = np.arange(0.0, np.size(signal_ecg) / frequency_ecg, 1 / frequency_ecg)\n",
    "#El número de muestras en los primeros 15 segundos\n",
    "n_muestras_15s = int(15 * frequency_ecg)\n",
    "#parte de la señal y del tiempo correspondientes\n",
    "time_15s = time_ecg[:n_muestras_15s]\n",
    "signal_15s = signal_ecg[:n_muestras_15s]\n",
    "\n",
    "# Gráfico de la señal completa\n",
    "plt.figure(figsize=(12, 5))\n",
    "plt.plot(time_ecg, signal_ecg, label=\"ECG Completo\")\n",
    "plt.xlabel(\"Tiempo (s)\")\n",
    "plt.ylabel(\"Amplitud\")\n",
    "plt.title(\"Señal de ECG Completa\")\n",
    "plt.legend()\n",
    "plt.grid()\n",
    "plt.show()\n",
    "\n",
    "# Gráfico de los primeros 15 segundos\n",
    "plt.figure(figsize=(12, 5))\n",
    "plt.plot(time_15s, signal_15s, label=\"ECG (Primeros 15 s)\", color=\"red\")\n",
    "plt.xlabel(\"Tiempo (s)\")\n",
    "plt.ylabel(\"Amplitud\")\n",
    "plt.title(\"Señal de ECG - Primeros 15 segundos\")\n",
    "plt.legend()\n",
    "plt.grid()\n",
    "plt.show()"
   ]
  },
  {
   "cell_type": "markdown",
   "metadata": {
    "id": "WvdnuhfRcRXM"
   },
   "source": [
    "# **4.Archivos txt**\n",
    "\n",
    "Este tipo de archivo es el más simple, constituye un archivo de texto plano que solo almacena caracteres sin formato especial o una estructura específica. Los archivos $.txt$ sn generados desde algún editor de texto como bloc de notas, entre otros. Se destaca por ser el más fácil de leer, por ser uno de los más ligeros y por su versátilidad, casi cualquier programa puede abrir un archivo de este tipo. Por lo general, se utiliza para almacenar logs (resultados de ciertos procesos computacionales, historiales, ...), configuraciones y datos simples.\n",
    "\n",
    "**¿Cómo cargar archivos $.txt$ en Python?**\n",
    "\n",
    "Debido a su carencia de estructura, bastaría con utilizar la función *open()* con la opción para lectura *\"r\"* integrada en Python para recuperar la información que contienen. Sin embargo para nuestro contexto específico vamos a asumir que este tipo de archivos contiene, en general, arreglos de datos numéricos por lo que nos resulta más conveniente utilizar la función *load_txt()* de *Numpy*. \n",
    "\n",
    "*NumPy* permite cargar arreglos desde archivos $.txt$ pasando como argumento el caracter separador de valores. Una restricción a tener en cuenta en este caso es que la función *load_txt()* únicamente permite leer arrays en 1 o 2 dimensiones.\n",
    "\n",
    "Para cargar un arreglo de números de un archivo $.txt$ se haciendo uso de la función *np.loadtxt()* seguimos la siguiente sintáxis:\n",
    "\n",
    "```\n",
    "arreglo_txt = np.loadtxt(\"ruta_del_archivo\")\n",
    "```\n",
    "\n",
    "La función *loadtxt()* cuenta con los siguientes parámetros adicionales:\n",
    "\n",
    "- **fname:** Nombre del archivo a cargar (ruta del archivo).\n",
    "\n",
    "- **delimiter:** Caracter con el que están separados los números de arreglo (por defecto se utiliza espacio \" \").\n",
    "\n",
    "- **skiprows:** Lista que incluye los índices de las filas que se desea evitar en la carga (aquello que no se incluiran en el arreglo cargado).\n",
    "\n",
    "- **usecols:** Lista de las columnas del archivo que se desea cargar.\n",
    "\n",
    "- **encoding:** Codificador utilizado para leer el archivo.\n",
    "\n"
   ]
  },
  {
   "cell_type": "markdown",
   "metadata": {
    "id": "YfNBZLcBf1AI"
   },
   "source": [
    "**4.1. Ejercicios**\n",
    "\n",
    "1. Cargue el archivo \"arrays_txt.txt\", imprima la dimensión del arreglo, el número de filas y columnas y el número de elementos que contiene."
   ]
  },
  {
   "cell_type": "code",
   "execution_count": 7,
   "metadata": {
    "id": "RLQNhofHfzqc"
   },
   "outputs": [
    {
     "data": {
      "text/plain": [
       "'Dimensión del arreglo:'"
      ]
     },
     "metadata": {},
     "output_type": "display_data"
    },
    {
     "data": {
      "text/plain": [
       "2"
      ]
     },
     "metadata": {},
     "output_type": "display_data"
    },
    {
     "data": {
      "text/plain": [
       "'Forma del arreglo (filas, columnas):'"
      ]
     },
     "metadata": {},
     "output_type": "display_data"
    },
    {
     "data": {
      "text/plain": [
       "(10, 10)"
      ]
     },
     "metadata": {},
     "output_type": "display_data"
    },
    {
     "data": {
      "text/plain": [
       "'Número total de elementos:'"
      ]
     },
     "metadata": {},
     "output_type": "display_data"
    },
    {
     "data": {
      "text/plain": [
       "100"
      ]
     },
     "metadata": {},
     "output_type": "display_data"
    }
   ],
   "source": [
    "import numpy as np\n",
    "# Cargar el archivo\n",
    "archivo_txt = np.loadtxt(\"./Archivos/arrays_txt.txt\", delimiter=\" \")\n",
    "\n",
    "#Dimensión del arreglo\n",
    "display(\"Dimensión del arreglo:\", archivo_txt.ndim)\n",
    "\n",
    "#Número de filas y columnas\n",
    "display(\"Forma del arreglo (filas, columnas):\", archivo_txt.shape)\n",
    "\n",
    "#Número total de elementos\n",
    "display(\"Número total de elementos:\", archivo_txt.size)\n"
   ]
  },
  {
   "cell_type": "markdown",
   "metadata": {
    "id": "-b2R-JOkgD61"
   },
   "source": [
    "2. Calcule e imprima la transpuesta, el determinante y los valores y vectores propios de la matriz.\n",
    "\n",
    "*Nota:* Para imprimir los autovalores y autovectores utilice el siguiente formato: \n",
    "  Eigenvalor 1: valor, Eigenvector 1: $[1,2...]$"
   ]
  },
  {
   "cell_type": "code",
   "execution_count": 12,
   "metadata": {
    "id": "tXSFoaTfgrJh"
   },
   "outputs": [
    {
     "name": "stdout",
     "output_type": "stream",
     "text": [
      "Transpuesta de la matriz:\n",
      " [[16.  3. 12.  4. 10.  7.  6.  6.  6.  3.]\n",
      " [ 7.  7.  3. 16. 13. 19. 19. 19. 14.  2.]\n",
      " [18.  6. 15. 15.  9. 11.  8. 19. 19. 16.]\n",
      " [ 0. 15.  0.  9. 10.  9.  6. 14.  6.  9.]\n",
      " [18. 19.  8. 11.  0.  8. 11. 16. 14. 19.]\n",
      " [12. 12.  3. 11. 17. 15.  4. 12. 11. 16.]\n",
      " [15. 17.  7. 18.  7.  0. 16.  2. 13. 15.]\n",
      " [ 8.  5. 11. 19. 16. 12.  7. 14. 13.  2.]\n",
      " [ 8.  2. 14. 12.  2.  1. 11.  9.  8. 11.]\n",
      " [12.  5. 13. 19. 16.  5. 15.  5. 11. 10.]]\n",
      "Determinante de la matriz: 5394791416.999948\n",
      "Eigenvalor 1: 102.77940247310953, Eigenvector 1: [0.3331268454554987, 0.2779070776305789, 0.2588509765716003, 0.4036136595737636, 0.30130721526337795, 0.2568554587144635, 0.3094362728114399, 0.34858060276583397, 0.33947264190693055, 0.3043430038174276]\n",
      "Eigenvalor 2: -22.21551025054031, Eigenvector 2: [0.1677792125722749, 0.5452804270816655, -0.14488574451976519, -0.1827641379713902, -0.3917404214405566, -0.21738989514892273, -0.3334779847661382, 0.010009794647426946, 0.039696973157744765, 0.5536445125557122]\n",
      "Eigenvalor 3: 19.72138201424064, Eigenvector 3: [-0.41932490349533175, 0.4801492644089847, -0.6034243682434307, 0.20461449348987018, 0.039276074819090664, 0.09802993597677094, 0.40202461793068833, -0.0678803025731289, -0.07192363010639269, -0.07126173020507465]\n",
      "Eigenvalor 4: 13.509923326810725, Eigenvector 4: [-0.11793439652980792, -0.003103800516337728, -0.33331070652658584, -0.22479292512259844, 0.3092063707597905, 0.6131178432807672, -0.5028970140388551, 0.293936705681077, -0.10699670432007691, -0.046684048541015544]\n",
      "Eigenvalor 5: 12.38980217746249, Eigenvector 5: [0.015057359418447946, 0.11045240524112947, -0.45332596002026626, -0.3035579905966865, 0.31966974640526163, 0.6422671942306583, -0.35782451487120087, 0.14314789578147413, -0.15321719106823675, -0.05674994026743881]\n",
      "Eigenvalor 6: -10.255247389700399, Eigenvector 6: [-0.27753877169804214, -0.33614103621922153, 0.15015536283579975, -0.3115442680520582, -0.06668178202906662, 0.2568828656437718, 0.4974149388956992, 0.44209703205220374, -0.2994248149314635, -0.29565702482896977]\n",
      "Eigenvalor 7: 3.1607198902856597, Eigenvector 7: [-0.26465455986867575, -0.16283676039633402, -0.02079182302963691, 0.011939872973719805, 0.3572432247615014, -0.00272445621053555, -0.4653618838261889, -0.07871376258717312, -0.2720210158138381, 0.6917255064329341]\n",
      "Eigenvalor 8: 0.8895642664856115, Eigenvector 8: [0.1875177083214369, 0.10403952814943883, -0.02689815646382218, -0.034266707757052706, -0.38439134473679737, 0.17973233618303483, 0.40307121875571433, 0.06796378832131358, 0.39335861810148975, -0.67099796023637]\n",
      "Eigenvalor 9: -5.268638559396422, Eigenvector 9: [-0.2677753942287285, 0.1265777868051221, 0.48785613017099994, -0.16429996780990785, 0.08690152330400305, -0.2456944163484487, 0.02949072018153927, -0.06120719135479358, -0.7112479496244568, 0.26242909383809254]\n",
      "Eigenvalor 10: -4.71139794875754, Eigenvector 10: [0.19654670390929876, -0.12704601207024177, -0.5366619798606465, 0.03015789655960966, -0.011772103913567979, 0.2788008842268848, -0.01775159533433512, 0.15948337351238426, 0.6935401578575834, -0.267762194951824]\n"
     ]
    }
   ],
   "source": [
    "#Calculo de matriz transpuesta\n",
    "print(\"Transpuesta de la matriz:\\n\", archivo_txt.T)\n",
    "\n",
    "#Cálculo del determinante\n",
    "print(\"Determinante de la matriz:\", np.linalg.det(archivo_txt))\n",
    "\n",
    "#Calculo de autovalores y autovectores\n",
    "autovalores, autovectores = np.linalg.eig(archivo_txt)\n",
    "\n",
    "#imprimir autovectores y autovalores\n",
    "for i, (valor, vector) in enumerate(zip(autovalores, autovectores.T), start=1):\n",
    "    print(f\"Eigenvalor {i}: {valor}, Eigenvector {i}: {vector.tolist()}\")\n"
   ]
  },
  {
   "cell_type": "markdown",
   "metadata": {
    "id": "U3TAlu4NgxtX"
   },
   "source": [
    "# **5. Generación de archivos**\n",
    "\n",
    "Python no solo puede leer archivos en distintos formatos sino que tambien puede generarlos, esto es, podemos guardar la información que hemos utilizado en un archivo de texto.\n",
    "\n",
    "Para ello, vamos a utilizar la función *savetxt()* de *NumPy* que nos permite almacenar distintos arreglos en un archivo $.txt$. La síntesis de código para usar la función *savetxt()* se describe a continuación:\n",
    "\n",
    "```\n",
    "np.savetxt(\"nombre_del_archivo\", arreglo)\n",
    "```\n",
    "\n",
    "Algunos argumentos útiles son:\n",
    "\n",
    "- **delimiter:** Caracter utilizado para separar los números del arreglo (por defecto es espacio (\" \")).\n",
    "\n",
    "- **header:** Cadena de texto que se desea ingresar al inicio del archivo (por ejemplo: 'Arreglos NumPy')\n",
    "\n",
    "- **footer:** Cadena de texto que se desea ingresar al final del archivo.\n",
    "\n"
   ]
  },
  {
   "cell_type": "markdown",
   "metadata": {
    "id": "Hbhub-xxiLxc"
   },
   "source": [
    "**5.1. Ejercicios**\n",
    "\n",
    "1. Genere 50 matrices de tamaño (10,10) de números enteros aleatorios y guárdelas en archivos $.txt$ dentro de una carpeta con nombre \"matrices_numpy\". Cada archivo de texto debe tener el nombre \"matriz_XX.txt\" donde XX es el número consecutivo de cada matriz creada. Al finalizar, debería tener una carpeta con nombre \"matrices_numpy\" y dentro 50 archivos $.txt$, cada uno conteniendo los datos numéricos de cada matriz.\n",
    "\n",
    "**Hint:** Utilice el módulo *os* nativo en Python para crear la carpeta y para recuperar la ruta a la misma."
   ]
  },
  {
   "cell_type": "code",
   "execution_count": 16,
   "metadata": {
    "id": "HC-MvK9ViKdv"
   },
   "outputs": [],
   "source": [
    "import os\n",
    "\n",
    "# Nombre de carpeta\n",
    "carpeta = \"matrices_numpy\"\n",
    "#Se crea una carpeta en caso de no existir\n",
    "os.makedirs(carpeta, exist_ok=True)\n",
    "\n",
    "# Generar y guardar 50 matrices en archivos .txt\n",
    "for i in range(1, 51):\n",
    "    matriz = np.random.randint(0, 10, size=(10, 10))  # Matriz 10x10 con enteros aleatorios entre 0 y 10\n",
    "    nombre_archivo = f\"matriz_{i:02d}.txt\"  # Nombre en formato matriz_XX.txt \n",
    "    #02d representa que se rellena con 0 a la izquierda, tiene 2 caracteres y es un entero\n",
    "    ruta_completa = os.path.join(carpeta, nombre_archivo)  # Ruta completa del archivo\n",
    "    \n",
    "    # Guardar la matriz en un archivo .txt\n",
    "    np.savetxt(ruta_completa, matriz, fmt=\"%d\", delimiter=\" \")\n"
   ]
  },
  {
   "cell_type": "markdown",
   "metadata": {
    "id": "PG7_cuiEiySE"
   },
   "source": [
    "2. Imprima en pantalla la cantidad de archivos dentro de la carpeta \"matrices_numpy\". **Hint:** La función *listdir* puede ser de utilidad en este caso.\n",
    "\n",
    "  **Nota:** El mensaje impreso debe tener el formato: 'La cantidad de archivos en el directorio X es Y.'"
   ]
  },
  {
   "cell_type": "code",
   "execution_count": null,
   "metadata": {
    "id": "NJSwOkD4jNOz"
   },
   "outputs": [],
   "source": [
    "#Nombre del directorio\n",
    "directorio = \"matrices_numpy\"\n",
    "\n",
    "# Obtener la lista de archivos en el directorio\n",
    "archivos = os.listdir(directorio)\n",
    "\n",
    "# Contar la cantidad de archivos\n",
    "cantidad = len(archivos)\n",
    "\n",
    "# Imprimir el mensaje en el formato requerido\n",
    "print(f\"La cantidad de archivos en el directorio {directorio} es {cantidad}.\")\n"
   ]
  }
 ],
 "metadata": {
  "colab": {
   "provenance": []
  },
  "kernelspec": {
   "display_name": "Python 3",
   "language": "python",
   "name": "python3"
  },
  "language_info": {
   "codemirror_mode": {
    "name": "ipython",
    "version": 3
   },
   "file_extension": ".py",
   "mimetype": "text/x-python",
   "name": "python",
   "nbconvert_exporter": "python",
   "pygments_lexer": "ipython3",
   "version": "3.13.2"
  }
 },
 "nbformat": 4,
 "nbformat_minor": 0
}
