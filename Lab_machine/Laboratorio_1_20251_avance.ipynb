{
  "cells": [
    {
      "cell_type": "markdown",
      "metadata": {
        "id": "yi34l9LYTUxx"
      },
      "source": [
        "# **Laboratorio 1: Una introducción a NumPy**\n",
        "\n",
        "**Facultad de ingeniería**\n",
        "\n",
        "Departamento de Ingeniería Biomédica\n",
        "\n",
        "Universidad de los Andes\n",
        "\n",
        "**IBIO-2340:** Fundamentos del machine learning"
      ]
    },
    {
      "cell_type": "markdown",
      "metadata": {
        "id": "q6l8Azb1Tdbo"
      },
      "source": [
        "**Nombres de los integrantes**\n",
        "\n",
        "\n",
        "1.   Nombre integrante 1\n",
        "2.   Nombre integrante 2\n",
        "\n",
        "**Número del grupo**\n",
        "\n",
        "*Escribir el número del grupo*\n"
      ]
    },
    {
      "cell_type": "markdown",
      "metadata": {
        "id": "qleaiXKOui8U"
      },
      "source": [
        "# **1. Funciones en Python**\n",
        "\n",
        "Para cada uno de los siguientes problemas, implemente una función que los resuelva. No puede utilizar ninguna librería externa de Python como NumPy o Scipy con métodos preestablecidos para resolverlos. Cada definición de la función deberá probarla con un ejemplo para validar la solución."
      ]
    },
    {
      "cell_type": "markdown",
      "metadata": {
        "id": "c95ohWaEvJAl"
      },
      "source": [
        "**1.1. Escriba una función que reciba como argumento una lista con números y retorne la suma de todos los números dentro de la misma.**"
      ]
    },
    {
      "cell_type": "code",
      "execution_count": null,
      "metadata": {
        "id": "-gzq2VnEva0g"
      },
      "outputs": [
        {
          "ename": "",
          "evalue": "",
          "output_type": "error",
          "traceback": [
            "\u001b[1;31mRunning cells with 'Python 3.13.0' requires the ipykernel package.\n",
            "\u001b[1;31mRun the following command to install 'ipykernel' into the Python environment. \n",
            "\u001b[1;31mCommand: '/opt/homebrew/bin/python3 -m pip install ipykernel -U --user --force-reinstall'"
          ]
        }
      ],
      "source": []
    },
    {
      "cell_type": "markdown",
      "metadata": {
        "id": "ZtIyBUkwvclE"
      },
      "source": [
        "**1.2. Escriba una función que reciba como argumento un numero entero positivo y retorne el factorial del mismo.**\n",
        "\n",
        "**Nota:** Recuerde que el factorial de un número está dado por la siguiente fórmula:\n",
        "\n",
        "\\begin{align}\n",
        "        n! = n * (n-1) * (n-2) * (n-3) * ... *(1)\n",
        "\\end{align}"
      ]
    },
    {
      "cell_type": "code",
      "execution_count": null,
      "metadata": {
        "id": "3BUh5cUVvclF"
      },
      "outputs": [],
      "source": []
    },
    {
      "cell_type": "markdown",
      "metadata": {
        "id": "3CHXMEjUyLXp"
      },
      "source": [
        "**1.3. Escriba una función que reciba como argumento una lista con números y retorne el promedio ponderado de los números dentro de la misma. Asuma que cada elemento tiene como peso su índice dentro de la lista (el elemento 0 tiene peso 0).**"
      ]
    },
    {
      "cell_type": "code",
      "execution_count": null,
      "metadata": {
        "id": "o4sf1VP3yLXw"
      },
      "outputs": [],
      "source": []
    },
    {
      "cell_type": "markdown",
      "metadata": {
        "id": "Eo7qhSx_UhgX"
      },
      "source": [
        "# **2. ¿Que es NumPy?**\n",
        "\n",
        "NumPy es una de las librerías más utilizadas. Esta permite realizar desde operaciones matriciales simples hasta complejas transformadas para el procesamiento de señales. Su utilidad en la programación científica radica en la facilidad que ofrece a la hora de realizar operaciones algebraicas complicadas como diagonalización de matrices, y el cálculo de valores y vectores propios. A continuación se detallará más algunas de las principales y más útiles funciones de esta libreria que serán de utilidad dentro del curso:"
      ]
    },
    {
      "cell_type": "markdown",
      "metadata": {
        "id": "kI7nPjKtycN4"
      },
      "source": [
        "En primer lugar, vamos a iniciar instalando y/o importando la libreria numpy en nuestro ambiente."
      ]
    },
    {
      "cell_type": "markdown",
      "metadata": {},
      "source": [
        "Si trabaja en **Windows**:\n",
        "1. Active su entorno virtual usando el comando:\n",
        "    ```bash \n",
        "    .\\venv\\Scripts\\activate\n",
        "2. Una vez en el entorno virtual instale numpy usando pip con el comando:\n",
        "    ```bash\n",
        "    pip install numpy\n",
        "Si trabaja en **Linux** o **MacOS**:\n",
        "1. Active su entorno virtual usando el comando: \n",
        "    ```bash\n",
        "    source .venv/bin/activate\n",
        "2. Una vez en el entorno virtual instale numpy usando pip con el comando:\n",
        "    ```bash\n",
        "    pip install numpy"
      ]
    },
    {
      "cell_type": "code",
      "execution_count": null,
      "metadata": {},
      "outputs": [],
      "source": [
        "\"\"\"\n",
        "Nota: El siguiente fragmento de código detecta si NumPy está instalado en su sistema y en caso de no ser así,\n",
        "procede con la instalación automáticamente.\n",
        "\n",
        "NO SE DEBE MODIFICAR ESTE FRAGMENTO.\n",
        "\n",
        "\n",
        "\"\"\"\n",
        "\n",
        "try:\n",
        "  import numpy as np\n",
        "  print(f\"NumPy versión {np.__version__} se encuentra instalada en su sistema.\")\n",
        "except ImportError:\n",
        "  print(\"NumPy no encontrado en su sistema. Verifique la instalación de Numpy.\")"
      ]
    },
    {
      "cell_type": "markdown",
      "metadata": {
        "id": "ELyXfeq31xr0"
      },
      "source": [
        "**Nota:** NumPy posee varias funciones que son de utilidad operando arreglos. A continuación se detallan algunas:\n",
        "\n",
        "**np.mean:** Retorna el promedio aritmético de un arreglo numérico.\n",
        "\n",
        "**np.std:** Retorna la desviación estandar de un arreglo numérico.\n",
        "\n",
        "**np.sum:** Retorna la suma de todos los números cotenidos en un arreglo.\n",
        "\n",
        "**np.prod:** Retorna la multiplicación de todos los números contenidos en un arreglo.\n",
        "\n",
        "\n",
        "De la misma manera, NumPy contiene distintos módulos orientados a campos específicos. Por ejemplo, el módulo *np.math* contiene funciones básicas como factorial, combinatorias, exponencial, etc. También el módulo *np.linalg* que contiene implementaciones que permiten distintas operaciones dentro del campo del álgebra lineal que veremos más adelante.\n",
        "\n",
        "**2.1. A continuación, repita los puntos 1.1, 1.2 y 1.3 pero utilice NumPy para sus implementaciones.**\n"
      ]
    },
    {
      "cell_type": "code",
      "execution_count": 5,
      "metadata": {
        "id": "DaP9-gqMskfZ"
      },
      "outputs": [],
      "source": [
        "#Repetición punto 1.1"
      ]
    },
    {
      "cell_type": "code",
      "execution_count": 6,
      "metadata": {
        "id": "ZqHQlV-_2ReS"
      },
      "outputs": [],
      "source": [
        "#Repetición punto 1.2"
      ]
    },
    {
      "cell_type": "code",
      "execution_count": 7,
      "metadata": {
        "id": "T0PqOF972Rk9"
      },
      "outputs": [],
      "source": [
        "#Repetición punto 1.3"
      ]
    },
    {
      "cell_type": "markdown",
      "metadata": {
        "id": "DqW0_XQc2ZoN"
      },
      "source": [
        "#**3. Arrays en numpy**\n",
        "\n",
        "Dentro de NumPy, una de los principales elementos son los *ndarrays* o simplemente **numpy arrays**, una estructura de datos similar a la lista tradicional de Python pero que permite mayor versatilidad a la hora de realizar operaciones. Los arrays son útiles a la hora de representar información como vectores y matrices.\n",
        "\n",
        "Para iniciar un vector con los números de 1 a 5 se utiliza la instrucción 'np.array()' de la siguiente manera:\n",
        "\n"
      ]
    },
    {
      "cell_type": "code",
      "execution_count": null,
      "metadata": {
        "colab": {
          "base_uri": "https://localhost:8080/"
        },
        "id": "Pd7VkpdO4BBN",
        "outputId": "c70cb29e-d564-4a78-b91b-97aa5e330f8d"
      },
      "outputs": [],
      "source": [
        "vector = np.array([1,2,3,4,5])\n",
        "print(vector)"
      ]
    },
    {
      "cell_type": "markdown",
      "metadata": {
        "id": "FTtxpWIb4Mwn"
      },
      "source": [
        "De la misma manera, una matriz puede ser iniciada como un arreglo de arreglos según el número de dimensiones que se requiere. Por ejemplo, para iniciar una matriz de 2x2 que contenga los números de 1 a 4 se debe realizar lo siguiente:"
      ]
    },
    {
      "cell_type": "code",
      "execution_count": null,
      "metadata": {
        "colab": {
          "base_uri": "https://localhost:8080/"
        },
        "id": "fhJbywwu4zmb",
        "outputId": "46e10bf1-49b0-49ce-e6b7-2c55d2e9e11d"
      },
      "outputs": [],
      "source": [
        "matriz = np.array([[1,2],[3,4]])\n",
        "print(matriz)\n",
        "print(matriz.shape)"
      ]
    },
    {
      "cell_type": "markdown",
      "metadata": {
        "id": "9ImYAnmh4_01"
      },
      "source": [
        "Como se ve en la celda anterior, todos los arrays tienen un atributo denominado *shape*, que le indica al usuario las dimensiones del objeto, o lo que es lo mismo, el número de objetos en un vector o de filas y columnas en una matriz."
      ]
    },
    {
      "cell_type": "markdown",
      "metadata": {
        "id": "p8Qc17wy62TW"
      },
      "source": [
        "Así como los arrays tienen un atributo denominado shape, existen diferentes atributos que dan más información acerca del array. Acá se detallan algunos de los más comunes:\n",
        "\n",
        "**array.ndim:** Especifica el número de dimensiones de un array. 1 en el caso de un vector, 2 en el caso de una matriz.\n",
        "\n",
        "**array.size:** Retorna el número de elementos dentro de un array.\n",
        "\n",
        "**array.T:** Retorna el array transpuesto.\n",
        "\n",
        "Algunos ejemplos de estos atributos se ven a continuación:"
      ]
    },
    {
      "cell_type": "code",
      "execution_count": null,
      "metadata": {
        "colab": {
          "base_uri": "https://localhost:8080/"
        },
        "id": "-Jao_7ya61rh",
        "outputId": "07c2c3b8-2522-4104-b255-c2e9b83c02e0"
      },
      "outputs": [],
      "source": [
        "print(\"Numero de dimensiones en nuestra matriz:\", matriz.ndim)\n",
        "print(\"Numero de elementos en nuestra matriz:\", matriz.size)\n",
        "print(\"Matriz transpuesta de nuestra matriz:\\n\", matriz.T)"
      ]
    },
    {
      "cell_type": "markdown",
      "metadata": {
        "id": "Nlx8f5MAApeF"
      },
      "source": [
        "**3.1. Indexación de arrays de numpy**\n",
        "\n",
        "\n",
        "La indexación es conocida como el proceso para obtener el elemento en una determinada posición dentro de un arreglo (array, lista). Para ello se utilizan los paréntesis cuadrados ([]) para indicar la posición de la que se quiere extraer el valor. En NumPy la indexación es similar a la realizada sobre listas con un ligero cambio.\n",
        "\n",
        "Cuando se tiene un vector cualquier posición puede ser obtenida simplemente indicando el nombre del vector y la posición deseada. Por ejemplo:"
      ]
    },
    {
      "cell_type": "code",
      "execution_count": null,
      "metadata": {
        "colab": {
          "base_uri": "https://localhost:8080/"
        },
        "id": "lwApTmRsBg69",
        "outputId": "e233dc2a-a803-4745-c439-8def85d6b40d"
      },
      "outputs": [],
      "source": [
        "vector = np.array([1,2,3,4,5])\n",
        "print(vector[2])"
      ]
    },
    {
      "cell_type": "markdown",
      "metadata": {
        "id": "LSJpGZNhBnWh"
      },
      "source": [
        "Por otra parte, en el caso de las matrices usualmente se realiza con una doble indexación en el caso de las listas de listas de Python. Esta manera cambia un poco dentro de los arrays, donde se debe indicar dentro de los paréntesis cuadrados las \"coordenadas\" del elemento que queremos. Se debe tener en cuenta que al igual que en las listas de listas la primer coordenada indica la fila mientras que la segunda coordenada indica la columna. Por ejemplo:"
      ]
    },
    {
      "cell_type": "code",
      "execution_count": null,
      "metadata": {
        "colab": {
          "base_uri": "https://localhost:8080/"
        },
        "id": "i9Pnm8fPBnDT",
        "outputId": "8bc4bbec-80e0-47a6-a7c0-daa33f68faea"
      },
      "outputs": [],
      "source": [
        "matriz = np.array([[1,2],[3,4]])\n",
        "print(matriz[0,1])"
      ]
    },
    {
      "cell_type": "markdown",
      "metadata": {
        "id": "Wzmu4MXVAx7Q"
      },
      "source": [
        "De la misma manera, si se desea obtener varios elementos se puede hacer uso de la indexación con coordenadas en conjunto con el elemento \":\" (dos puntos), donde el número a la izquierda indica la posición inicial y el número a la derecha indica la posición final + 1. Por ejemplo:\n",
        "\n",
        "```\n",
        "vector[:]  #Devuelve todos los elementos del vector\n",
        "vector[2:5] #Devuelve los elementos de la segunda a la cuarta posición\n",
        "vector[:5] #Devuelve los elementos desde la primera hasta la cuarta posición.\n",
        "vector[2:] #Devuelve los elementos a partir de la segunda posición hasta el final.\n",
        "vector[::2] #Devuelve los elementos del primero al último con pasos de 2 posiciones.\n",
        "vector[2:5:2] #Devuelve los elementos de la posición dos a la posición cuatro con pasos de 2.\n",
        "```\n",
        "\n",
        "En matrices se realiza la misma operación según las filas y columnas que se quieren. Por ejemplo:\n",
        "\n",
        "```\n",
        "matriz[:,:]  #Devuelve todos los elementos de tanto filas como columnas\n",
        "matriz[2:5,:] #Devuelve los elementos de la segunda a la cuarta fila y todas las columnas\n",
        "matriz[:,:5] #Devuelve los elementos para todas las filas desde la primera hasta la cuarta columna.\n",
        "matriz[2:,:] #Devuelve los elementos a partir de la segunda fila para todas las columnas.\n",
        "matriz[::2,::3] #Devuelve las filas de la primera a la última con pasos de 2 posiciones y de la primera a la última columna con pasos de 3 posiciones.\n",
        "```\n",
        "\n",
        "\n",
        "\n"
      ]
    },
    {
      "cell_type": "markdown",
      "metadata": {
        "id": "nCeG5Bc9Ko1Z"
      },
      "source": [
        "**3.2. Ejercicios**\n",
        "\n",
        "1. Escriba una función que reciba como argumento una matriz de numpy (array), obtenga todos los elementos de la diagonal de una matriz de NxN y los retorne en un array de NumPy."
      ]
    },
    {
      "cell_type": "code",
      "execution_count": null,
      "metadata": {
        "id": "jyxXuB4OD-47"
      },
      "outputs": [],
      "source": [
        "import numpy as np\n",
        "\n",
        "def obtener_diagonal(matriz):\n",
        "    \n",
        "    return np.diagonal(matriz)\n",
        "\n",
        "# Ejemplo de uso\n",
        "matriz = np.array([[1, 2, 3],\n",
        "                   [4, 5, 6],\n",
        "                   [7, 8, 9]])\n",
        "\n",
        "diagonal = obtener_diagonal(matriz)\n",
        "print(\"Diagonal:\", diagonal)"
      ]
    },
    {
      "cell_type": "markdown",
      "metadata": {
        "id": "RkNJa40-LCu3"
      },
      "source": [
        "2. Escriba una función que reciba como argumentos una matriz de NxN y un número de fila y retorne la multiplicación de todos los elementos de determinada fila."
      ]
    },
    {
      "cell_type": "code",
      "execution_count": null,
      "metadata": {
        "id": "WV5u9IbULNSu"
      },
      "outputs": [],
      "source": [
        "import numpy as np\n",
        "\n",
        "def multiplicar_fila(matriz, fila):\n",
        "\n",
        "    return np.prod(matriz[fila, :])\n",
        "\n",
        "# Ejemplo de uso\n",
        "matriz = np.array([[1, 2, 3],\n",
        "                   [4, 5, 6],\n",
        "                   [7, 8, 9]])\n",
        "\n",
        "fila = 1  # Segunda fila (índice 1)\n",
        "resultado = multiplicar_fila(matriz, fila)\n",
        "print(f\"Producto de la fila {fila}: {resultado}\")"
      ]
    },
    {
      "cell_type": "markdown",
      "metadata": {
        "id": "JhhPIHRoLO6N"
      },
      "source": [
        "3. Escriba una función que reciba como argumentos una matriz de NxN y un número de columna y retorne la suma de todos los elementos de determinada columna."
      ]
    },
    {
      "cell_type": "code",
      "execution_count": null,
      "metadata": {
        "id": "qbDZpsYjLqwu"
      },
      "outputs": [],
      "source": [
        "import numpy as np\n",
        "\n",
        "def sumar_columna(matriz, columna):\n",
        "\n",
        "    return np.sum(matriz[:, columna])\n",
        "\n",
        "# Ejemplo de uso\n",
        "matriz = np.array([[1, 2, 3],\n",
        "                   [4, 5, 6],\n",
        "                   [7, 8, 9]])\n",
        "\n",
        "columna = 2  # Tercera columna (índice 2)\n",
        "resultado = sumar_columna(matriz, columna)\n",
        "print(f\"Suma de la columna {columna}: {resultado}\")"
      ]
    },
    {
      "cell_type": "markdown",
      "metadata": {
        "id": "BYDBpcYjL9eY"
      },
      "source": [
        "4. Escriba una función que reciba como argumento una matriz y retorne su transpuesta."
      ]
    },
    {
      "cell_type": "code",
      "execution_count": null,
      "metadata": {
        "id": "nRTug2PcLOlW"
      },
      "outputs": [],
      "source": [
        "import numpy as np\n",
        "\n",
        "def transponer_matriz(matriz):\n",
        "\n",
        "    return matriz.T\n",
        "\n",
        "# Ejemplo de uso\n",
        "matriz = np.array([[1, 2, 3],\n",
        "                   [4, 5, 6],\n",
        "                   [7, 8, 9]])\n",
        "\n",
        "matriz_transpuesta = transponer_matriz(matriz)\n",
        "\n",
        "print(\"\\nMatriz transpuesta:\")\n",
        "print(matriz_transpuesta)\n"
      ]
    },
    {
      "cell_type": "markdown",
      "metadata": {
        "id": "cNwvzcw9MJpu"
      },
      "source": [
        "**3.3. Tipos especiales de matrices en NumPy**\n",
        "\n",
        "De igual manera, se pueden crear ciertos tipos de matriz especiales utilizando NumPy mediante el uso del argumento shape visto anteriormente. Algunas matrices pueden ser:\n",
        "\n",
        "**Matriz donde todos sus elementos son 0:** Esta matriz puede ser creada utilizando la función *np.zeros()* donde como argumento *shape* se debe indicar las dimensiones con las que se quiere construir la matriz.\n",
        "\n",
        "**Matriz donde todos sus elementos son 1:** Esta matriz puede ser creada utilizando la función *np.ones()* donde como argumento *shape* se debe indicar las dimensiones con las que se quiere construir la matriz.\n",
        "\n",
        "**Matriz identidad:** Esta matriz puede ser creada utilizando la función *np.eye* donde como argumento obligatorio se debe indicar N, el número de filas, y como argumento opcional se puede indicar M (número de columnas) y/o k (posición de la diagonal, donde 0 indica la diagonal principal, un número positivo indica una diagonal superior y un número negativo indica una diagonal inferior)."
      ]
    },
    {
      "cell_type": "markdown",
      "metadata": {
        "id": "ZSRvJPXiN90U"
      },
      "source": [
        "**3.4. Ejercicios**\n",
        "\n",
        "1. Cree un vector de 15 elementos donde todos sus elementos son el número 1 e imprima sus dimensiones.\n"
      ]
    },
    {
      "cell_type": "code",
      "execution_count": null,
      "metadata": {
        "id": "m29HLYhEN6fF"
      },
      "outputs": [],
      "source": [
        "import numpy as np\n",
        "\n",
        "# Crear un vector de 15 elementos con el valor 1\n",
        "vector = np.ones(15)\n",
        "\n",
        "# Imprimir el vector\n",
        "print(\"Vector:\")\n",
        "print(vector)\n",
        "\n",
        "# Imprimir las dimensiones del vector\n",
        "print(\"\\nDimensiones del vector:\")\n",
        "print(vector.shape)"
      ]
    },
    {
      "cell_type": "markdown",
      "metadata": {
        "id": "Mldt5ugAOrB3"
      },
      "source": [
        "\n",
        "2. Cree una matriz de 3 filas por 6 columnas donde todos sus elementos sean el número 0.\n"
      ]
    },
    {
      "cell_type": "code",
      "execution_count": null,
      "metadata": {
        "id": "5PMMrRh0OsYd"
      },
      "outputs": [],
      "source": [
        "import numpy as np\n",
        "\n",
        "# Crear una matriz de 3x6 con todos sus elementos en 0\n",
        "matriz = np.zeros((3, 6))\n",
        "\n",
        "# Imprimir la matriz\n",
        "print(\"Matriz:\")\n",
        "print(matriz)\n"
      ]
    },
    {
      "cell_type": "markdown",
      "metadata": {
        "id": "3gkPOHEQOs1U"
      },
      "source": [
        "\n",
        "3. Cree una matriz de 8x8 donde todos los elementos de la diagonal principal son el número 1 y los demás son el número 0.\n",
        "\n"
      ]
    },
    {
      "cell_type": "code",
      "execution_count": null,
      "metadata": {
        "id": "OLBczRUgOuGF"
      },
      "outputs": [],
      "source": [
        "import numpy as np\n",
        "\n",
        "# Crear una matriz de 8x8 con 1 en la diagonal principal y 0 en los demás elementos\n",
        "matriz = np.eye(8)\n",
        "\n",
        "# Imprimir la matriz\n",
        "print(\"Matriz 8x8 con 1 en la diagonal principal:\")\n",
        "print(matriz)\n"
      ]
    },
    {
      "cell_type": "markdown",
      "metadata": {
        "id": "CeC8mc2-Outp"
      },
      "source": [
        "4. Cree una función que reciba como argumento una matriz y retorne el promedio por filas de sus elementos.\n",
        "\n",
        "    **Hint:** ¿Que función tiene el parámetro axis dentro de la función np.mean()?"
      ]
    },
    {
      "cell_type": "code",
      "execution_count": null,
      "metadata": {
        "id": "WUXKnnatPD-d"
      },
      "outputs": [],
      "source": [
        "import numpy as np\n",
        "\n",
        "# Crear una matriz de 8x8 con 1 en la diagonal principal y 0 en los demás elementos\n",
        "matriz = np.eye(8)\n",
        "\n",
        "# Imprimir la matriz\n",
        "print(\"Matriz 8x8 con 1 en la diagonal principal:\")\n",
        "print(matriz)\n"
      ]
    },
    {
      "cell_type": "markdown",
      "metadata": {
        "id": "4EvB-nTkPIi-"
      },
      "source": [
        "5. Cree una función que reciba como argumento una matriz y retorne el promedio por columnas de sus elementos.\n",
        "\n",
        "    **Hint:** ¿Que función tiene el parámetro axis dentro de la función np.mean()?"
      ]
    },
    {
      "cell_type": "code",
      "execution_count": null,
      "metadata": {
        "id": "KqxPmaSQPIjF"
      },
      "outputs": [],
      "source": [
        "import numpy as np\n",
        "\n",
        "def promedio_por_columnas(matriz):\n",
        "\n",
        "    return np.mean(matriz, axis=0)\n",
        "\n",
        "# Ejemplo de uso\n",
        "matriz = np.array([[1, 2, 3],\n",
        "                   [4, 5, 6],\n",
        "                   [7, 8, 9]])\n",
        "\n",
        "promedios = promedio_por_columnas(matriz)\n",
        "print(\"Promedios por columnas:\")\n",
        "print(promedios)\n"
      ]
    },
    {
      "cell_type": "markdown",
      "metadata": {
        "id": "Arg1_bRrTJID"
      },
      "source": [
        "#**4. Propiedades y operaciones con matrices**\n",
        "\n",
        "NumPy permite realizar distintas operaciones con matrices, entre las principales se encuentran:\n",
        "\n",
        "```\n",
        "a = np.array([[1,2],[3,4]])\n",
        "b = np.array([[5,6],[7,8]])\n",
        "```\n",
        "- **Suma de matrices**: La suma de matrices elemento a elemento se realiza sumando las dos matrices como dos variables estandar.\n",
        "```\n",
        "c = a + b\n",
        "[[ 6  8]\n",
        " [10 12]]\n",
        "```\n",
        "- **Resta de matrices**: La resta de matrices elemento a elemento se realiza restando las dos matrices como dos variables estandar.\n",
        "```\n",
        "c = a - b\n",
        "[[-4 -4]\n",
        " [-4 -4]]\n",
        "```\n",
        "- **División de matrices**: La división de matrices elemento a elemento se realiza dividiendo las dos matrices como dos variables estandar (esto también incluye la división entera y la operación módulo).\n",
        "```\n",
        "c = a / b\n",
        "[[0.2        0.33333333]\n",
        " [0.42857143 0.5       ]]\n",
        "```\n",
        "\n",
        "- **Multiplicación de matrices (elemento a elemento)**: La multiplicación de matrices elemento a elemento se realiza multiplicando las dos matrices como dos variables estandar.\n",
        "```\n",
        "c = a * b\n",
        "[[ 5 12]\n",
        " [21 32]]\n",
        "```\n",
        "\n",
        "- **Producto matricial**: El producto entre matrices se puede realizar de varias formas, algunas de ellas incluyen el símbolo '@' como operador. Bajo esta implementación Numpy se ajusta automáticamente a los distintos tipos de producto que se dan a lugar entre vectores y matrices.\n",
        "\n",
        "Importante: \n",
        "Si los dos objetos son vectores, se hace un producto punto al usar el operador '@'. Es equivalente usar la función *numpy.dot()*.\n",
        "Si los dos objetos son matrices, y satisfacen la relación necesaria entre filas y columnas de esta operación, se hace un producto matricial al usar el operador '@'. Es equivalente a usar la función *numpy.matmul()*.\n",
        "En la versión reciente de Numpy, se ha extendido el uso de np.dot() y np.matmul() de modo que ahora es completamente equivalente usar cualquiera de las tres aproximaciones: '@', *numpy.dot()*. ó *numpy.matmul()*.\n",
        "```\n",
        "c = a @ b\n",
        "[[19 22]\n",
        " [43 50]]\n",
        "c = np.dot(a,b)\n",
        "[[19 22]\n",
        " [43 50]]\n",
        "```\n",
        "\n",
        "\n",
        "\n",
        "\n"
      ]
    },
    {
      "cell_type": "markdown",
      "metadata": {
        "id": "pHJLzWnXU2dV"
      },
      "source": [
        "**4.1. Ejercicios**\n",
        "\n",
        "Para las siguientes parejas de matrices determine:\n",
        "\n",
        "- Suma de las matrices elemento a elemento.\n",
        "\n",
        "- Resta de las matrices elemento a elemento.\n",
        "\n",
        "- División de las matrices elemento a elemento.\n",
        "\n",
        "- Multiplicación de las matrices elemento a elemento.\n",
        "\n",
        "- Producto matricial."
      ]
    },
    {
      "cell_type": "markdown",
      "metadata": {
        "id": "DZQQPYOharLX"
      },
      "source": [
        "**Pareja 1:**\n",
        "\n",
        "\\begin{align}\n",
        " \\begin{pmatrix}\n",
        " 10 & 2 & 1 & \\\\\n",
        " 24 & 1 & 2 & \\\\\n",
        " 2 & 3 & 2 & \\\\\n",
        "\\end{pmatrix}  \n",
        " \\begin{pmatrix}\n",
        " 3 & 7 & 8 & \\\\\n",
        " 2 & 1 & 3 & \\\\\n",
        " 7 & 9 & 8 & \\\\\n",
        "\\end{pmatrix}\n",
        "\\end{align}\n"
      ]
    },
    {
      "cell_type": "code",
      "execution_count": null,
      "metadata": {
        "id": "-qHMviP3bRaC"
      },
      "outputs": [],
      "source": [
        "import numpy as np \n",
        "\n",
        "matrix1 = np.array([[10,2,1],[24,1,2],[2,3,2]])\n",
        "matrix2 = np.array([[3,7,8],[2,1,3],[7,9,8]])\n",
        "\n",
        "e_wise_sum = matrix1 + matrix2"
      ]
    },
    {
      "cell_type": "code",
      "execution_count": null,
      "metadata": {
        "id": "zwNB-mBhbRT8"
      },
      "outputs": [],
      "source": [
        "import numpy as np \n",
        "\n",
        "matrix1 = np.array([[10,2,1],[24,1,2],[2,3,2]])\n",
        "matrix2 = np.array([[3,7,8],[2,1,3],[7,9,8]])\n",
        "\n",
        "e_wise_sub = matrix1 - matrix2"
      ]
    },
    {
      "cell_type": "code",
      "execution_count": null,
      "metadata": {
        "id": "Xpzp-p-QbRNA"
      },
      "outputs": [],
      "source": [
        "import numpy as np \n",
        "\n",
        "matrix1 = np.array([[10,2,1],[24,1,2],[2,3,2]])\n",
        "matrix2 = np.array([[3,7,8],[2,1,3],[7,9,8]])\n",
        "\n",
        "e_wise_div = matrix1 / matrix2"
      ]
    },
    {
      "cell_type": "code",
      "execution_count": null,
      "metadata": {
        "id": "FW9YY_s8bRG8"
      },
      "outputs": [],
      "source": [
        "import numpy as np \n",
        "\n",
        "matrix1 = np.array([[10,2,1],[24,1,2],[2,3,2]])\n",
        "matrix2 = np.array([[3,7,8],[2,1,3],[7,9,8]])\n",
        "\n",
        "e_wise_prod = matrix1 * matrix2"
      ]
    },
    {
      "cell_type": "code",
      "execution_count": null,
      "metadata": {
        "id": "fDfRsUWPbQuo"
      },
      "outputs": [],
      "source": [
        "import numpy as np \n",
        "\n",
        "matrix1 = np.array([[10,2,1],[24,1,2],[2,3,2]])\n",
        "matrix2 = np.array([[3,7,8],[2,1,3],[7,9,8]])\n",
        "\n",
        "matrix_prod = np.dot(matrix1,matrix2)"
      ]
    },
    {
      "cell_type": "markdown",
      "metadata": {
        "id": "PdJk6xoJbSCx"
      },
      "source": [
        "\n",
        "**Pareja 2:**\n",
        "\n",
        "\\begin{align}\n",
        " \\begin{pmatrix}\n",
        " 9 & 4 & 7 & \\\\\n",
        " 4 & 6 & 2 & \\\\\n",
        " 2 & 8 & 5 & \\\\\n",
        "\\end{pmatrix}\n",
        " \\begin{pmatrix}\n",
        " 1 & 2 & 4 & \\\\\n",
        " 6 & 7 & 5 & \\\\\n",
        " 16 & 14 & 7 & \\\\\n",
        "\\end{pmatrix}\n",
        "\\end{align}"
      ]
    },
    {
      "cell_type": "code",
      "execution_count": null,
      "metadata": {
        "id": "1uOvKKUCbi0-"
      },
      "outputs": [],
      "source": [
        "import numpy as np \n",
        "\n",
        "matrix1 = np.array([[9,4,7],[4,6,2],[2,8,5]])\n",
        "matrix2 = np.array([[1,2,4],[6,7,5],[16,14,7]])\n",
        "\n",
        "e_wise_sum = matrix1 + matrix2"
      ]
    },
    {
      "cell_type": "code",
      "execution_count": null,
      "metadata": {
        "id": "xB95hbLXbi0-"
      },
      "outputs": [],
      "source": [
        "import numpy as np \n",
        "\n",
        "matrix1 = np.array([[9,4,7],[4,6,2],[2,8,5]])\n",
        "matrix2 = np.array([[1,2,4],[6,7,5],[16,14,7]])\n",
        "\n",
        "e_wise_sub = matrix1 - matrix2"
      ]
    },
    {
      "cell_type": "code",
      "execution_count": null,
      "metadata": {
        "id": "sixhZo1tbi0-"
      },
      "outputs": [],
      "source": [
        "import numpy as np \n",
        "\n",
        "matrix1 = np.array([[9,4,7],[4,6,2],[2,8,5]])\n",
        "matrix2 = np.array([[1,2,4],[6,7,5],[16,14,7]])\n",
        "\n",
        "e_wise_div = matrix1 / matrix2"
      ]
    },
    {
      "cell_type": "code",
      "execution_count": null,
      "metadata": {
        "id": "Hysf5ubbbi0_"
      },
      "outputs": [],
      "source": [
        "import numpy as np \n",
        "\n",
        "matrix1 = np.array([[9,4,7],[4,6,2],[2,8,5]])\n",
        "matrix2 = np.array([[1,2,4],[6,7,5],[16,14,7]])\n",
        "\n",
        "e_wise_prod = matrix1 * matrix2"
      ]
    },
    {
      "cell_type": "code",
      "execution_count": 1,
      "metadata": {
        "id": "a6KsPpElbi0_",
        "trusted": true
      },
      "outputs": [],
      "source": [
        "import numpy as np \n",
        "\n",
        "matrix1 = np.array([[9,4,7],[4,6,2],[2,8,5]])\n",
        "matrix2 = np.array([[1,2,4],[6,7,5],[16,14,7]])\n",
        "\n",
        "matrix_prod = np.dot(matrix1,matrix2)"
      ]
    },
    {
      "cell_type": "markdown",
      "metadata": {
        "id": "xKFU93UrXSqc"
      },
      "source": [
        "#**5. Operaciones de álgebra lineal**\n",
        "\n",
        "Numpy permite realizar ciertas operaciones de álgebra lineal haciendo uso de su paquete linalg, hoy observaremos algunas de las principales operaciones que pueden ser realizadas con NumPy.\n",
        "\n",
        "**np.linalg.det:** Calcula el determinante de un array que debe ser de MxM.\n",
        "\n",
        "**np.linalg.inv:** Calcula la inversa de un array que debe ser de MxM y retorna un error si la conversión falla o el array no tiene MxM elementos.\n",
        "\n",
        "**np.linalg.eig:** Calcula los eigenvalores y eigenvectores de un array que debe ser de MxM y los retorna en la forma (W,v) donde W es un array que contiene los eigenvalores y v un array que contiene los eigenvectores."
      ]
    },
    {
      "cell_type": "markdown",
      "metadata": {
        "id": "GZ-bRC1-ZF6G"
      },
      "source": [
        "**5.1. Ejercicios**\n",
        "\n",
        "1. Para cada una de las siguientes matrices:\n",
        "\n",
        "    a. Determine el número de dimensiones de la matriz.\n",
        "\n",
        "    b. Determine las dimensiones de la matriz.\n",
        "\n",
        "    c. Calcule el determinante de la matriz.\n",
        "\n",
        "    d. Calcule la inversa de la matriz.      \n",
        "\n",
        "    e. Calcule los valores y vectores propios, e imprímalos en pantalla de la siguiente manera:\n",
        "\n",
        "  Eigenvalor 1: valor, Eigenvector 1: $[1,2...]$\n",
        "\n",
        "Matriz 1\n",
        "\n",
        "\\begin{align}\n",
        " \\begin{pmatrix}\n",
        " 1 & 8 & 2 \\\\\n",
        " 3 & 4 & 5 \\\\\n",
        " 5 & 1 & 10 \\\\\n",
        "\\end{pmatrix}\n",
        " \\end{align}\n",
        "\n",
        "\n",
        "Matriz 2\n",
        "\n",
        "\\begin{align}\n",
        " \\begin{pmatrix}\n",
        " 7 & 6 & 3 \\\\\n",
        " 2 & 9 & 5 \\\\\n",
        " 3 & 7 & 10 \\\\\n",
        "\\end{pmatrix}\n",
        " \\end{align}\n",
        "\n",
        "\n",
        "Matriz 3\n",
        "\n",
        "\\begin{align}\n",
        " \\begin{pmatrix}\n",
        " 10 & 8 & 1 \\\\\n",
        " 6 & 2 & 7 \\\\\n",
        " 8 & 9 & 4 \\\\\n",
        "\\end{pmatrix}\n",
        " \\end{align}"
      ]
    },
    {
      "cell_type": "code",
      "execution_count": null,
      "metadata": {
        "id": "6bXF9va4adnd"
      },
      "outputs": [],
      "source": [
        "import numpy as np\n",
        "matrix1 = np.array([[1,8,2],[3,4,5],[5,1,10]])\n",
        "matrix2 = np.array([[7,6,3],[2,9,5],[3,7,10]])\n",
        "matrix3 = np.array([[10,8,1],[6,2,7],[8,9,4]])\n",
        "\n",
        "def matrix_operations(matrix):\n",
        "    # a.\n",
        "    print(\"Número de dimensiones:\", matrix.ndim)\n",
        "    # b. \n",
        "    print(\"Dimensiones de la matriz:\", matrix.shape)\n",
        "    # c.\n",
        "    det = np.linalg.det(matrix)\n",
        "    print(\"Determinante:\", det)\n",
        "    # d. Calculate the inverse of the matrix (if it exists)\n",
        "    try:\n",
        "        inv = np.linalg.inv(matrix)\n",
        "        print(\"Inversa de la matriz:\\n\", inv)\n",
        "    except np.linalg.LinAlgError:\n",
        "        print(\"La matriz no tiene inversa.\")\n",
        "    # e. Calculate eigenvalues and eigenvectors\n",
        "    eigvals, eigvecs = np.linalg.eig(matrix)\n",
        "    print(\"Valores propios:\", eigvals)\n",
        "    print(\"Vectores propios:\\n\", eigvecs)\n",
        "    print(\"====================================\")\n",
        "\n",
        "print(\"Operaciones para matrix1:\")\n",
        "matrix_operations(matrix1)\n",
        "\n",
        "print(\"Operaciones para matrix2:\")\n",
        "matrix_operations(matrix2)\n",
        "\n",
        "print(\"Operaciones para matrix3:\")\n",
        "matrix_operations(matrix3)\n"
      ]
    },
    {
      "cell_type": "markdown",
      "metadata": {
        "id": "43JhsZScdc0E"
      },
      "source": [
        "#**6. Arange vs linspace**\n",
        "\n",
        "Otros dos métodos conocidos para la creación de arrays son np.arange y np.linspace. Estos métodos son usados especialmente cuando se busca crear arrays que representen una secuencia temporal, como por ejemplo un array representando la variable del tiempo que va de 0 a 50 segundos con pasos de 1 segundo. Ambos métodos reciben como argumentos obligatorios el número de inicio y el número de fin. La principal diferencia entre estos métodos se da en que np.arange recibe como tercer argumento los intervalos para los que se quiere la muestra. Por ejemplo, si se quiere crear un array de 0 a 50 con pasos de 1, la síntesis del código debería ser:\n",
        "\n",
        "```\n",
        "array = np.arange(0,51,1)\n",
        "```\n",
        "Por otra parte, linspace recibe como tercer argumento el número de muestras que se quiere en el array. Es decir, si se quiere que el array sea de 1 a 50 con pasos de 1 (50 muestras) la síntesis del código debería ser:\n",
        "\n",
        "\n",
        "\n",
        "```\n",
        "array = np.linspace(0,50,51)\n",
        "```\n",
        "\n",
        "**Nota:** Es importante diferenciar el tipo de dato que contiene el array, ya que en el caso del ejemplo de arange, como se están utilizando pasos enteros (de 1 en 1) el retorno es un array con números en tipo int32, mientras que en el caso del ejemplo de linspace el retorno se da en float64. Comúnmente se trabaja con float64 en NumPy, así que si quisieramos que el retorno del ejemplo de arange sea en formato float64 basta con cambiar el número de pasos a uno que no sea entero o a definir con un punto al final cada número como a continuación:\n",
        "\n",
        "\n",
        "```\n",
        "array = np.arange(0., 51., 1)\n",
        "```\n",
        "\n",
        "\n"
      ]
    },
    {
      "cell_type": "markdown",
      "metadata": {
        "id": "4lAqGDEHe11N"
      },
      "source": [
        "**6.1. Ejercicios**\n",
        "\n",
        "1. Defina un array que contenga números de 10 a 20 con pasos de 0.25 e imprima su longitud.\n"
      ]
    },
    {
      "cell_type": "code",
      "execution_count": null,
      "metadata": {
        "id": "8sByJ-OMfn3U"
      },
      "outputs": [],
      "source": [
        "import numpy as np\n",
        "arr = np.arange(10,20,0.25)\n",
        "print(len(arr))"
      ]
    },
    {
      "cell_type": "markdown",
      "metadata": {
        "id": "Jk1c2VRPfoVy"
      },
      "source": [
        "\n",
        "2. Defina un array que contenga números de 1 a 5 y que contenga 100 elementos.\n"
      ]
    },
    {
      "cell_type": "code",
      "execution_count": null,
      "metadata": {
        "id": "dw5XkcWVfplj"
      },
      "outputs": [],
      "source": [
        "import numpy as np\n",
        "arr = np.linspace(1, 5, 100)"
      ]
    },
    {
      "cell_type": "markdown",
      "metadata": {
        "id": "p3u75TKRfp6O"
      },
      "source": [
        "\n",
        "3. Defina dos arrays con los límites de su preferencia (deben ser los mismos para ambos arrays) utilizando los dos métodos de tal manera que ambos arrays tengan el mismo número de datos e imprima su longitud."
      ]
    },
    {
      "cell_type": "code",
      "execution_count": null,
      "metadata": {
        "id": "gfvZqVvFfqaA"
      },
      "outputs": [],
      "source": [
        "import numpy as np\n",
        "arr1 = np.arange(0,10,1)\n",
        "arr2 = np.arange(0,10,1)\n",
        "\n",
        "print(\"Length first array: \" + str(len(arr1)))\n",
        "print(\"Length second array: \" + str(len(arr2)))"
      ]
    }
  ],
  "metadata": {
    "colab": {
      "provenance": []
    },
    "kernelspec": {
      "display_name": "Python 3",
      "language": "python",
      "name": "python3"
    },
    "language_info": {
      "codemirror_mode": {
        "name": "python",
        "version": 3
      },
      "file_extension": ".py",
      "mimetype": "text/x-python",
      "name": "python",
      "nbconvert_exporter": "python",
      "pygments_lexer": "ipython3",
      "version": "3.13.0"
    }
  },
  "nbformat": 4,
  "nbformat_minor": 4
}
