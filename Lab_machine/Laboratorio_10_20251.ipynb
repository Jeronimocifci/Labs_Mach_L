{
 "cells": [
  {
   "cell_type": "markdown",
   "metadata": {
    "id": "-d9hh1oQtb5b"
   },
   "source": [
    "## **Laboratorio 10: Aplicaciones del método de Descenso de Gradiente y el método de Newton**"
   ]
  },
  {
   "cell_type": "markdown",
   "metadata": {
    "id": "yi34l9LYTUxx"
   },
   "source": [
    "**Facultad de ingeniería**\n",
    "\n",
    "Departamento de Ingeniería Biomédica\n",
    "\n",
    "Universidad de los Andes\n",
    "\n",
    "**IBIO-2340** Fundamentos de Machine Learning."
   ]
  },
  {
   "cell_type": "markdown",
   "metadata": {
    "id": "q6l8Azb1Tdbo"
   },
   "source": [
    "**Nombres de los integrantes**\n",
    "\n",
    "\n",
    "1.   Alejandro Narváez - 202123110\n",
    "2.   Ali Cifci - 202210698\n",
    "\n",
    "**Número del grupo**\n",
    "\n",
    "LabML-4 10"
   ]
  },
  {
   "cell_type": "markdown",
   "metadata": {
    "id": "uL59gDP2Y4JU"
   },
   "source": [
    "# **1. Introducción al problema**"
   ]
  },
  {
   "cell_type": "markdown",
   "metadata": {
    "id": "3B8hlndOIUA3"
   },
   "source": [
    "El centro de atención médica \"Los Robles\" es una institución de servicios de salud con más de 100 años de trayectoria que se encuentra ubicada en el centro del municipio de San Antonio. Sus empleados, tanto administrativos como personal médico, residen en zonas aledañas al pueblo. Debido al deterioro que ha tenido el edificio durante los 100 años de funcionamiento, el nuevo gerente busca reubicar el centro de salud en una zona que reduzca la distancia de desplazamiento de los empleados sin que se aleje demasiado de la posición actual. Para ello, ha contratado un equipo de ingenieros biomédicos de la Universidad de los Andes, quienes se encargarán de definir la mejor localización para el nuevo centro de salud."
   ]
  },
  {
   "cell_type": "markdown",
   "metadata": {
    "id": "vVMPL3WLNDUZ"
   },
   "source": [
    "Después de hacer un estudio, se determinaron las coordenadas de ubicación de la vivienda de los 20 empleados actuales así como las coordenadas de ubicación del actual centro de salud. Esta información se encuentra en el archivo ***localizaciones.csv***. Las primeras 20 coordenadas en el archivo corresponden a la localización de los empleados y la última es la ubicación actual del centro de salud.\n",
    "\n",
    "Para solucionar el problema y hallar el punto óptimo para la localización del nuevo centro de salud, el gerente pide:\n",
    "\n",
    "* Minimizar el cuadrado de la distancia euclidiana entre cada coordenada de los empleados y la localización del nuevo centro de salud\n",
    "\n",
    "* Minimizar simultáneamente el cuadrado de la distancia euclidiana entre la nueva y la actual localización del centro de salud.\n",
    "\n",
    "* Dar una prioridad de 15 a la minimización de la distancia de los empleados respecto a la minimización de la distancia de la actual ubicación.\n",
    "\n",
    "No se dispone de restricción alguna respecto a la nueva ubicación del centro de salud. Para facilitar el análisis, sean $p^{(i)}=[p_1^{(i)},p_2^{(i)}]^T$ las coordenadas del $i$-ésimo empleado, $x=[x_1,x_2]^T$ las coordenadas de la nueva ubicación y $q=[q_1,q_2]^T$ las coordenadas de la actual ubicación."
   ]
  },
  {
   "cell_type": "markdown",
   "metadata": {
    "id": "X_eNehglRqIK"
   },
   "source": [
    "# **2. Ejercicios**"
   ]
  },
  {
   "cell_type": "markdown",
   "metadata": {
    "id": "_BAQHgiLRt24"
   },
   "source": [
    "**2.1.** Defina el problema de optimización asociado a los requerimientos de la gerencia del centro de salud."
   ]
  },
  {
   "cell_type": "code",
   "execution_count": null,
   "metadata": {
    "id": "CDH6o2AAt1Ex"
   },
   "outputs": [],
   "source": [
    "\n",
    "# Restricciones, función objetivo y Variables de decisión\n",
    "\n",
    "import numpy as np\n",
    "from scipy.optimize import minimize\n",
    "import matplotlib.pyplot as plt\n",
    "\n",
    "# Definimos las coordenadas de los 20 empleados (p^(i)) y la ubicación actual (q)\n",
    "# Generamos datos de ejemplo (coordenadas aleatorias en un plano 2D)\n",
    "np.random.seed(42)  # Para reproducibilidad\n",
    "num_empleados = 20\n",
    "p = np.random.uniform(0, 100, size=(num_empleados, 2))  # Coordenadas de los empleados [p1, p2]\n",
    "q = np.array([50, 50])  # Coordenadas de la ubicación actual [q1, q2]\n",
    "\n",
    "# Mostramos los datos generados\n",
    "print(\"Coordenadas de los empleados (p^(i)):\\n\", p)\n",
    "print(\"\\nCoordenadas de la ubicación actual (q):\\n\", q)"
   ]
  },
  {
   "cell_type": "markdown",
   "metadata": {
    "id": "9Lk2EOmVR-8l"
   },
   "source": [
    "**2.2.** Implemente el método de Descenso de Gradiente para encontrar la ubicación óptima del nuevo centro de salud. Para ello, utilice al menos tres valores diferentes para la tasa de aprendizaje $\\alpha$. Además defina la tolerancia, el criterio de parada y el número máximo de pasos del algoritmo. Justifique su elección."
   ]
  },
  {
   "cell_type": "code",
   "execution_count": null,
   "metadata": {
    "id": "wm2-UDzFSmSu"
   },
   "outputs": [],
   "source": []
  },
  {
   "cell_type": "markdown",
   "metadata": {
    "id": "grHXw_LlSnI1"
   },
   "source": [
    "**2.3.** Grafique la trayectoria de la solución seguida por el algoritmo según los parámetros dados (es decir, cómo cambia la ubicación del puesto de salud en cada paso del algoritmo) para el método de Descenso de Gradiente. En esta gráfica incluya las 20 coordenadas de ubicación de los empleados asi como la posición del puesto de salud actual."
   ]
  },
  {
   "cell_type": "code",
   "execution_count": null,
   "metadata": {
    "id": "T-8xB-11S0mv"
   },
   "outputs": [],
   "source": []
  },
  {
   "cell_type": "markdown",
   "metadata": {
    "id": "rqiWP_o7S1fg"
   },
   "source": [
    "**2.4.** Implemente el método de Newton para hallar la ubicación óptima del nuevo centro de salud. Además defina la tolerancia, el criterio de parada y el número máximo de pasos del algoritmo."
   ]
  },
  {
   "cell_type": "code",
   "execution_count": null,
   "metadata": {
    "id": "Qsxu5SrPTCRO"
   },
   "outputs": [],
   "source": []
  },
  {
   "cell_type": "markdown",
   "metadata": {
    "id": "DUDLxNtJTEed"
   },
   "source": [
    "**2.5.** Grafique la trayectoria del algoritmo según los parámetros dados para el método de Newton. En esta gráfica incluya las 20 coordenadas de ubicación de los empleados asi como la posición del puesto de salud actual.\n",
    "\n",
    "\n"
   ]
  },
  {
   "cell_type": "code",
   "execution_count": null,
   "metadata": {
    "id": "eVzp8ebNTFgC"
   },
   "outputs": [],
   "source": []
  },
  {
   "cell_type": "markdown",
   "metadata": {
    "id": "WcGkcktpTIy9"
   },
   "source": [
    "**2.6.** Analice los resultados obtenidos con cada método: ¿Cúal de los dos algoritmos converje mejor, por qué?, ¿cúal de los resultados obtenidos es el mejor, por qué? ¿De qué forma afecta la solución obtenida la inclusión del factor de prioridad en alguno de los dos términos de la función objetivo?"
   ]
  },
  {
   "cell_type": "code",
   "execution_count": null,
   "metadata": {
    "id": "VgdJwdCYTUga"
   },
   "outputs": [],
   "source": []
  },
  {
   "cell_type": "markdown",
   "metadata": {
    "id": "fXJzM4ME_Nit"
   },
   "source": [
    "**2.7.** Presente los resultados a las directivas del centro de salud junto con la conclusión de su estudio. Para ello apóyese en gráficas lo suficientemente claras y bien presentadas, con una selección de colores y notación que facilite el entendimiento de las directivas del centro de salud."
   ]
  },
  {
   "cell_type": "code",
   "execution_count": null,
   "metadata": {
    "id": "6iJ9WirV_OfN"
   },
   "outputs": [],
   "source": []
  }
 ],
 "metadata": {
  "colab": {
   "provenance": []
  },
  "kernelspec": {
   "display_name": "Python 3",
   "name": "python3"
  },
  "language_info": {
   "name": "python"
  }
 },
 "nbformat": 4,
 "nbformat_minor": 0
}
