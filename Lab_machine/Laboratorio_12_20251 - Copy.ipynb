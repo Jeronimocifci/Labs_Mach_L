{
 "cells": [
  {
   "cell_type": "markdown",
   "metadata": {
    "id": "cl_j2KwtVuYT"
   },
   "source": [
    "# **Laboratorio 12: Funciones de pérdida en el modelo de Regresión Lineal**\n",
    "**Facultad de ingeniería, departamento de Ingeniería Biomédica, Universidad de los Andes**\\\n",
    "**IBIO-2340 Fundamentos del machine learning**"
   ]
  },
  {
   "cell_type": "markdown",
   "metadata": {
    "id": "dmnIao0gV6XJ"
   },
   "source": [
    "**Nombres de los integrantes**\n",
    "\n",
    "\n",
    "1.   Nombre integrante 1\n",
    "2.   Nombre integrante 2\n",
    "\n",
    "**Número del grupo**\n",
    "\n",
    "*Escribir el número del grupo*"
   ]
  },
  {
   "cell_type": "markdown",
   "metadata": {},
   "source": [
    "# **1. Norma L2 como función de pérdida**"
   ]
  },
  {
   "cell_type": "markdown",
   "metadata": {
    "id": "pkVvrCyYV-c2"
   },
   "source": [
    "En el laboratorio anterior iniciamos el estudio del modelo de Regresión Lineal como herramienta de modelamiento y filtrado de datos. Para obtener el valor de los coeficientes óptimos $\\beta$ que mejor ajustan los datos, tomamos como punto de partida un problema de optimización de mínimos cuadrados entre la predicción y el valor real de la variable independiente:\n",
    "\n",
    "\\begin{align*}\n",
    "  \\min_\\beta ||y-H\\beta||_2^2\n",
    " \\end{align*}"
   ]
  },
  {
   "cell_type": "markdown",
   "metadata": {},
   "source": [
    " > 1. *Resolver el problema de minimos cuadrados es equivalente a minimizar el cuadrado de la norma $L2$ como función de pérdida.*"
   ]
  },
  {
   "cell_type": "markdown",
   "metadata": {},
   "source": [
    "Bajo esta elección, el problema puede resolverse de forma analítica y los valores de $\\beta$ que minimizan la función de pérdida están dados por la expresión:\n",
    "\\begin{align*}\n",
    "  \\beta^* =  (H^TH)^{-1}H^Ty\n",
    "\\end{align*}\n",
    "\n",
    "*Es importante aclarar que, por lo general, se utiliza la norma $L2$ como medida de rendimiento (función de pérdida) en problemas de Regresión. Sin embargo, minimizar MSE (el cuadrado de la norma $L2$) permite resolver el problema de forma analítica y conduce al mismo resultado, puesto que minimizar una función implica minimizar también su raíz cuadrada. [1]*"
   ]
  },
  {
   "cell_type": "markdown",
   "metadata": {},
   "source": [
    "# **2. Norma L1 como función de pérdida**"
   ]
  },
  {
   "cell_type": "markdown",
   "metadata": {},
   "source": [
    "Existen algunos escenarios en los que utilizar la norma $L2$ como medida de rendimiento no resulta ventajoso. En este laboratorio vamos a explorar dichos escenarios. Una función de pérdida alternativa que suele plantearse en los problemas de Regresión es la norma $L1$ (también conocida como Error Absoluto Medio (MAE en inglés) o norma Manhattan):\n",
    "\n",
    "\\begin{align*}\n",
    "  \\min_\\beta ||y-H\\beta||_1\n",
    " \\end{align*}\n",
    "\n",
    "Bajo esta elección, la minimización de la función de pérdida busca reducir el error entendido como el valor absoluto de la diferencia entre el valor real de la variable independiente $y$ y la predicción del modelo $H\\beta$. A diferencia de la optimización basada en mínimos cuadrados, el uso de la norma $L1$ como función de pérdida no permite calcular el valor óptimo de los coeficentes $\\beta$ de forma analítica por lo que se hace necesario recurrir a métodos de minimización numérica para estimar su valor, tales como los que proporciona la libreria *optimize* de Python."
   ]
  },
  {
   "cell_type": "markdown",
   "metadata": {},
   "source": [
    "# **Ejercicios**"
   ]
  },
  {
   "cell_type": "markdown",
   "metadata": {},
   "source": [
    "1. Importe los datos X y Y contenidos en el archivo *reg_1.mat*. Recuerde que este formato se importa como un diccionario en donde la llave \"x\" corresponde a los valores medidos para la variable independiente y la llave \"y\" a los valores de la variable dependiente."
   ]
  },
  {
   "cell_type": "code",
   "execution_count": null,
   "metadata": {
    "id": "WSA7AqTJl_2y"
   },
   "outputs": [],
   "source": []
  },
  {
   "cell_type": "markdown",
   "metadata": {
    "id": "Jq9uexuhWDeY"
   },
   "source": [
    "2. Obtenga los coeficientes óptimos $\\beta$ para una relación polinómica de grado 3 entre X y Y haciendo uso de la solución analítica."
   ]
  },
  {
   "cell_type": "code",
   "execution_count": null,
   "metadata": {
    "id": "5XGM9zbo4JEK"
   },
   "outputs": [],
   "source": []
  },
  {
   "cell_type": "markdown",
   "metadata": {
    "id": "YIbtDrJU4JN3"
   },
   "source": [
    "3. Ahora minimice la norma $L1$ para encontrar los coeficientes óptimos $\\beta$ de la relación entre X y Y establecida en el punto anterior. Utilice la función *minimize* de la librería *scipy.optimize*."
   ]
  },
  {
   "cell_type": "code",
   "execution_count": null,
   "metadata": {
    "id": "z5qcGEaAnjtb"
   },
   "outputs": [],
   "source": []
  },
  {
   "cell_type": "markdown",
   "metadata": {
    "id": "2h2rqn-k4QQh"
   },
   "source": [
    "4. Grafique la dispersión de los datos X y Y, acompañada de las curvas de regresión correspondientes al ajuste obtenido para las normas $L2$ y $L1$."
   ]
  },
  {
   "cell_type": "code",
   "execution_count": null,
   "metadata": {
    "id": "j3OB9g-464Dh"
   },
   "outputs": [],
   "source": []
  },
  {
   "cell_type": "markdown",
   "metadata": {
    "id": "rMRjXkcE5H8B"
   },
   "source": [
    "5. Repita los ejercicios 1 al 4 utilizando ahora los datos contenidos en el archivo *reg_2.mat*."
   ]
  },
  {
   "cell_type": "code",
   "execution_count": null,
   "metadata": {
    "id": "id7Ok0wToO8g"
   },
   "outputs": [],
   "source": []
  },
  {
   "cell_type": "markdown",
   "metadata": {
    "id": "IihJgGg8oRXw"
   },
   "source": [
    "6. Compare el ajuste entre las regresiones que minimizan la norma $L1$ y la norma $L2$ para los dos conjuntos de datos. ¿Qué ocurre con el ajuste cuando hay *outliers*$^1$ o anomalías entre los datos? ¿Cúal de las dos funciones de pérdida responde mejor a la presencia de este tipo de datos? Refiérase al efecto de penalización que ocurre en cada caso."
   ]
  },
  {
   "cell_type": "markdown",
   "metadata": {
    "id": "Ddw1WCJbo4lP"
   },
   "source": [
    " > 2. *En términos simples, un outlier es una medición extremadamente alta o baja en relación con el conjunto de datos con los que se está trabajando. Un dato atípico.*"
   ]
  },
  {
   "cell_type": "markdown",
   "metadata": {},
   "source": []
  },
  {
   "cell_type": "markdown",
   "metadata": {},
   "source": [
    "**Referencias**\n",
    "\n",
    "[1]. Géron, Aurelien. *Hands-on Machine Learning with Scikit-Learn, Keras, and TensorFlow*. Second Edition, 2019. Chapter 4 (Training Models). Page 116."
   ]
  }
 ],
 "metadata": {
  "colab": {
   "provenance": []
  },
  "kernelspec": {
   "display_name": "Python 3",
   "name": "python3"
  },
  "language_info": {
   "name": "python"
  }
 },
 "nbformat": 4,
 "nbformat_minor": 0
}
